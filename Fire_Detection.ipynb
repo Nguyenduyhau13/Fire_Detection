{
 "cells": [
  {
   "cell_type": "markdown",
   "id": "03de4f88",
   "metadata": {},
   "source": [
    "YOLOv8\n"
   ]
  },
  {
   "cell_type": "code",
   "execution_count": 1,
   "id": "07d059e5",
   "metadata": {},
   "outputs": [
    {
     "name": "stdout",
     "output_type": "stream",
     "text": [
      "Ultralytics 8.3.109  Python-3.11.8 torch-2.3.1+cu118 CUDA:0 (NVIDIA GeForce RTX 3050 6GB Laptop GPU, 6144MiB)\n",
      "\u001b[34m\u001b[1mengine\\trainer: \u001b[0mtask=detect, mode=train, model=yolov8n.pt, data=./fire_data/train/data.yaml, epochs=50, time=None, patience=100, batch=16, imgsz=640, save=True, save_period=-1, cache=False, device=None, workers=8, project=None, name=train16, exist_ok=False, pretrained=True, optimizer=auto, verbose=True, seed=0, deterministic=True, single_cls=False, rect=False, cos_lr=False, close_mosaic=10, resume=False, amp=True, fraction=1.0, profile=False, freeze=None, multi_scale=False, overlap_mask=True, mask_ratio=4, dropout=0.0, val=True, split=val, save_json=False, conf=None, iou=0.7, max_det=300, half=False, dnn=False, plots=True, source=None, vid_stride=1, stream_buffer=False, visualize=False, augment=False, agnostic_nms=False, classes=None, retina_masks=False, embed=None, show=False, save_frames=False, save_txt=False, save_conf=False, save_crop=False, show_labels=True, show_conf=True, show_boxes=True, line_width=None, format=torchscript, keras=False, optimize=False, int8=False, dynamic=False, simplify=True, opset=None, workspace=None, nms=False, lr0=0.01, lrf=0.01, momentum=0.937, weight_decay=0.0005, warmup_epochs=3.0, warmup_momentum=0.8, warmup_bias_lr=0.1, box=7.5, cls=0.5, dfl=1.5, pose=12.0, kobj=1.0, nbs=64, hsv_h=0.015, hsv_s=0.7, hsv_v=0.4, degrees=0.0, translate=0.1, scale=0.5, shear=0.0, perspective=0.0, flipud=0.0, fliplr=0.5, bgr=0.0, mosaic=1.0, mixup=0.0, copy_paste=0.0, copy_paste_mode=flip, auto_augment=randaugment, erasing=0.4, cfg=None, tracker=botsort.yaml, save_dir=runs\\detect\\train16\n",
      "Overriding model.yaml nc=80 with nc=1\n",
      "\n",
      "                   from  n    params  module                                       arguments                     \n",
      "  0                  -1  1       464  ultralytics.nn.modules.conv.Conv             [3, 16, 3, 2]                 \n",
      "  1                  -1  1      4672  ultralytics.nn.modules.conv.Conv             [16, 32, 3, 2]                \n",
      "  2                  -1  1      7360  ultralytics.nn.modules.block.C2f             [32, 32, 1, True]             \n",
      "  3                  -1  1     18560  ultralytics.nn.modules.conv.Conv             [32, 64, 3, 2]                \n",
      "  4                  -1  2     49664  ultralytics.nn.modules.block.C2f             [64, 64, 2, True]             \n",
      "  5                  -1  1     73984  ultralytics.nn.modules.conv.Conv             [64, 128, 3, 2]               \n",
      "  6                  -1  2    197632  ultralytics.nn.modules.block.C2f             [128, 128, 2, True]           \n",
      "  7                  -1  1    295424  ultralytics.nn.modules.conv.Conv             [128, 256, 3, 2]              \n",
      "  8                  -1  1    460288  ultralytics.nn.modules.block.C2f             [256, 256, 1, True]           \n",
      "  9                  -1  1    164608  ultralytics.nn.modules.block.SPPF            [256, 256, 5]                 \n",
      " 10                  -1  1         0  torch.nn.modules.upsampling.Upsample         [None, 2, 'nearest']          \n",
      " 11             [-1, 6]  1         0  ultralytics.nn.modules.conv.Concat           [1]                           \n",
      " 12                  -1  1    148224  ultralytics.nn.modules.block.C2f             [384, 128, 1]                 \n",
      " 13                  -1  1         0  torch.nn.modules.upsampling.Upsample         [None, 2, 'nearest']          \n",
      " 14             [-1, 4]  1         0  ultralytics.nn.modules.conv.Concat           [1]                           \n",
      " 15                  -1  1     37248  ultralytics.nn.modules.block.C2f             [192, 64, 1]                  \n",
      " 16                  -1  1     36992  ultralytics.nn.modules.conv.Conv             [64, 64, 3, 2]                \n",
      " 17            [-1, 12]  1         0  ultralytics.nn.modules.conv.Concat           [1]                           \n",
      " 18                  -1  1    123648  ultralytics.nn.modules.block.C2f             [192, 128, 1]                 \n",
      " 19                  -1  1    147712  ultralytics.nn.modules.conv.Conv             [128, 128, 3, 2]              \n",
      " 20             [-1, 9]  1         0  ultralytics.nn.modules.conv.Concat           [1]                           \n",
      " 21                  -1  1    493056  ultralytics.nn.modules.block.C2f             [384, 256, 1]                 \n",
      " 22        [15, 18, 21]  1    751507  ultralytics.nn.modules.head.Detect           [1, [64, 128, 256]]           \n",
      "Model summary: 129 layers, 3,011,043 parameters, 3,011,027 gradients, 8.2 GFLOPs\n",
      "\n",
      "Transferred 319/355 items from pretrained weights\n",
      "\u001b[34m\u001b[1mTensorBoard: \u001b[0mStart with 'tensorboard --logdir runs\\detect\\train16', view at http://localhost:6006/\n",
      "Freezing layer 'model.22.dfl.conv.weight'\n",
      "\u001b[34m\u001b[1mAMP: \u001b[0mrunning Automatic Mixed Precision (AMP) checks...\n",
      "Downloading https://github.com/ultralytics/assets/releases/download/v8.3.0/yolo11n.pt to 'yolo11n.pt'...\n"
     ]
    },
    {
     "name": "stderr",
     "output_type": "stream",
     "text": [
      "100%|██████████| 5.35M/5.35M [00:00<00:00, 11.3MB/s]\n"
     ]
    },
    {
     "name": "stdout",
     "output_type": "stream",
     "text": [
      "\u001b[34m\u001b[1mAMP: \u001b[0mchecks passed \n"
     ]
    },
    {
     "name": "stderr",
     "output_type": "stream",
     "text": [
      "\u001b[34m\u001b[1mtrain: \u001b[0mScanning D:\\Fire_Detection\\fire_data\\train\\labels.cache... 139 images, 0 backgrounds, 0 corrupt: 100%|██████████| 139/139 [00:00<?, ?it/s]\n",
      "\u001b[34m\u001b[1mval: \u001b[0mScanning D:\\Fire_Detection\\fire_data\\test\\labels.cache... 31 images, 0 backgrounds, 0 corrupt: 100%|██████████| 31/31 [00:00<?, ?it/s]\n"
     ]
    },
    {
     "name": "stdout",
     "output_type": "stream",
     "text": [
      "Plotting labels to runs\\detect\\train16\\labels.jpg... \n",
      "\u001b[34m\u001b[1moptimizer:\u001b[0m 'optimizer=auto' found, ignoring 'lr0=0.01' and 'momentum=0.937' and determining best 'optimizer', 'lr0' and 'momentum' automatically... \n",
      "\u001b[34m\u001b[1moptimizer:\u001b[0m AdamW(lr=0.002, momentum=0.9) with parameter groups 57 weight(decay=0.0), 64 weight(decay=0.0005), 63 bias(decay=0.0)\n",
      "\u001b[34m\u001b[1mTensorBoard: \u001b[0mmodel graph visualization added \n",
      "Image sizes 640 train, 640 val\n",
      "Using 8 dataloader workers\n",
      "Logging results to \u001b[1mruns\\detect\\train16\u001b[0m\n",
      "Starting training for 50 epochs...\n",
      "\n",
      "      Epoch    GPU_mem   box_loss   cls_loss   dfl_loss  Instances       Size\n"
     ]
    },
    {
     "name": "stderr",
     "output_type": "stream",
     "text": [
      "       1/50      2.17G      2.017      3.385      1.935         40        640: 100%|██████████| 9/9 [00:04<00:00,  2.02it/s]\n",
      "                 Class     Images  Instances      Box(P          R      mAP50  mAP50-95): 100%|██████████| 1/1 [00:00<00:00,  2.15it/s]"
     ]
    },
    {
     "name": "stdout",
     "output_type": "stream",
     "text": [
      "                   all         31         61    0.00441      0.672      0.154     0.0597\n"
     ]
    },
    {
     "name": "stderr",
     "output_type": "stream",
     "text": [
      "\n"
     ]
    },
    {
     "name": "stdout",
     "output_type": "stream",
     "text": [
      "\n",
      "      Epoch    GPU_mem   box_loss   cls_loss   dfl_loss  Instances       Size\n"
     ]
    },
    {
     "name": "stderr",
     "output_type": "stream",
     "text": [
      "       2/50      2.17G      1.924      2.849       1.79         34        640: 100%|██████████| 9/9 [00:01<00:00,  4.79it/s]\n",
      "                 Class     Images  Instances      Box(P          R      mAP50  mAP50-95): 100%|██████████| 1/1 [00:00<00:00,  3.50it/s]"
     ]
    },
    {
     "name": "stdout",
     "output_type": "stream",
     "text": [
      "                   all         31         61    0.00581      0.885      0.133     0.0441\n"
     ]
    },
    {
     "name": "stderr",
     "output_type": "stream",
     "text": [
      "\n"
     ]
    },
    {
     "name": "stdout",
     "output_type": "stream",
     "text": [
      "\n",
      "      Epoch    GPU_mem   box_loss   cls_loss   dfl_loss  Instances       Size\n"
     ]
    },
    {
     "name": "stderr",
     "output_type": "stream",
     "text": [
      "       3/50      2.18G      1.864      2.543      1.745         31        640: 100%|██████████| 9/9 [00:01<00:00,  4.52it/s]\n",
      "                 Class     Images  Instances      Box(P          R      mAP50  mAP50-95): 100%|██████████| 1/1 [00:00<00:00,  2.98it/s]"
     ]
    },
    {
     "name": "stdout",
     "output_type": "stream",
     "text": [
      "                   all         31         61    0.00613      0.934      0.224      0.093\n"
     ]
    },
    {
     "name": "stderr",
     "output_type": "stream",
     "text": [
      "\n"
     ]
    },
    {
     "name": "stdout",
     "output_type": "stream",
     "text": [
      "\n",
      "      Epoch    GPU_mem   box_loss   cls_loss   dfl_loss  Instances       Size\n"
     ]
    },
    {
     "name": "stderr",
     "output_type": "stream",
     "text": [
      "       4/50      2.18G      1.925      2.421      1.715         53        640: 100%|██████████| 9/9 [00:01<00:00,  4.78it/s]\n",
      "                 Class     Images  Instances      Box(P          R      mAP50  mAP50-95): 100%|██████████| 1/1 [00:00<00:00,  3.19it/s]"
     ]
    },
    {
     "name": "stdout",
     "output_type": "stream",
     "text": [
      "                   all         31         61    0.00602      0.918      0.264       0.08\n"
     ]
    },
    {
     "name": "stderr",
     "output_type": "stream",
     "text": [
      "\n"
     ]
    },
    {
     "name": "stdout",
     "output_type": "stream",
     "text": [
      "\n",
      "      Epoch    GPU_mem   box_loss   cls_loss   dfl_loss  Instances       Size\n"
     ]
    },
    {
     "name": "stderr",
     "output_type": "stream",
     "text": [
      "       5/50      2.18G      1.862      2.331      1.654         36        640: 100%|██████████| 9/9 [00:01<00:00,  4.77it/s]\n",
      "                 Class     Images  Instances      Box(P          R      mAP50  mAP50-95): 100%|██████████| 1/1 [00:00<00:00,  2.94it/s]"
     ]
    },
    {
     "name": "stdout",
     "output_type": "stream",
     "text": [
      "                   all         31         61      0.433       0.23      0.242     0.0841\n"
     ]
    },
    {
     "name": "stderr",
     "output_type": "stream",
     "text": [
      "\n"
     ]
    },
    {
     "name": "stdout",
     "output_type": "stream",
     "text": [
      "\n",
      "      Epoch    GPU_mem   box_loss   cls_loss   dfl_loss  Instances       Size\n"
     ]
    },
    {
     "name": "stderr",
     "output_type": "stream",
     "text": [
      "       6/50      2.18G      1.895       2.22      1.668         35        640: 100%|██████████| 9/9 [00:01<00:00,  4.86it/s]\n",
      "                 Class     Images  Instances      Box(P          R      mAP50  mAP50-95): 100%|██████████| 1/1 [00:00<00:00,  3.32it/s]"
     ]
    },
    {
     "name": "stdout",
     "output_type": "stream",
     "text": [
      "                   all         31         61      0.659     0.0984      0.238     0.0961\n"
     ]
    },
    {
     "name": "stderr",
     "output_type": "stream",
     "text": [
      "\n"
     ]
    },
    {
     "name": "stdout",
     "output_type": "stream",
     "text": [
      "\n",
      "      Epoch    GPU_mem   box_loss   cls_loss   dfl_loss  Instances       Size\n"
     ]
    },
    {
     "name": "stderr",
     "output_type": "stream",
     "text": [
      "       7/50      2.18G      1.713      2.135      1.586         35        640: 100%|██████████| 9/9 [00:01<00:00,  4.89it/s]\n",
      "                 Class     Images  Instances      Box(P          R      mAP50  mAP50-95): 100%|██████████| 1/1 [00:00<00:00,  3.11it/s]"
     ]
    },
    {
     "name": "stdout",
     "output_type": "stream",
     "text": [
      "                   all         31         61      0.115     0.0876     0.0841     0.0232\n"
     ]
    },
    {
     "name": "stderr",
     "output_type": "stream",
     "text": [
      "\n"
     ]
    },
    {
     "name": "stdout",
     "output_type": "stream",
     "text": [
      "\n",
      "      Epoch    GPU_mem   box_loss   cls_loss   dfl_loss  Instances       Size\n"
     ]
    },
    {
     "name": "stderr",
     "output_type": "stream",
     "text": [
      "       8/50      2.18G      1.851      2.151      1.654         27        640: 100%|██████████| 9/9 [00:01<00:00,  4.97it/s]\n",
      "                 Class     Images  Instances      Box(P          R      mAP50  mAP50-95): 100%|██████████| 1/1 [00:00<00:00,  3.27it/s]"
     ]
    },
    {
     "name": "stdout",
     "output_type": "stream",
     "text": [
      "                   all         31         61      0.416      0.328      0.268      0.117\n"
     ]
    },
    {
     "name": "stderr",
     "output_type": "stream",
     "text": [
      "\n"
     ]
    },
    {
     "name": "stdout",
     "output_type": "stream",
     "text": [
      "\n",
      "      Epoch    GPU_mem   box_loss   cls_loss   dfl_loss  Instances       Size\n"
     ]
    },
    {
     "name": "stderr",
     "output_type": "stream",
     "text": [
      "       9/50      2.18G      1.813      2.082      1.691         37        640: 100%|██████████| 9/9 [00:01<00:00,  4.93it/s]\n",
      "                 Class     Images  Instances      Box(P          R      mAP50  mAP50-95): 100%|██████████| 1/1 [00:00<00:00,  3.68it/s]"
     ]
    },
    {
     "name": "stdout",
     "output_type": "stream",
     "text": [
      "                   all         31         61      0.171      0.213       0.11     0.0304\n"
     ]
    },
    {
     "name": "stderr",
     "output_type": "stream",
     "text": [
      "\n"
     ]
    },
    {
     "name": "stdout",
     "output_type": "stream",
     "text": [
      "\n",
      "      Epoch    GPU_mem   box_loss   cls_loss   dfl_loss  Instances       Size\n"
     ]
    },
    {
     "name": "stderr",
     "output_type": "stream",
     "text": [
      "      10/50      2.18G      1.708      2.014      1.591         26        640: 100%|██████████| 9/9 [00:01<00:00,  5.45it/s]\n",
      "                 Class     Images  Instances      Box(P          R      mAP50  mAP50-95): 100%|██████████| 1/1 [00:00<00:00,  3.17it/s]"
     ]
    },
    {
     "name": "stdout",
     "output_type": "stream",
     "text": [
      "                   all         31         61      0.221       0.41      0.225     0.0694\n"
     ]
    },
    {
     "name": "stderr",
     "output_type": "stream",
     "text": [
      "\n"
     ]
    },
    {
     "name": "stdout",
     "output_type": "stream",
     "text": [
      "\n",
      "      Epoch    GPU_mem   box_loss   cls_loss   dfl_loss  Instances       Size\n"
     ]
    },
    {
     "name": "stderr",
     "output_type": "stream",
     "text": [
      "      11/50      2.18G      1.816       2.03      1.646         42        640: 100%|██████████| 9/9 [00:01<00:00,  5.32it/s]\n",
      "                 Class     Images  Instances      Box(P          R      mAP50  mAP50-95): 100%|██████████| 1/1 [00:00<00:00,  3.76it/s]"
     ]
    },
    {
     "name": "stdout",
     "output_type": "stream",
     "text": [
      "                   all         31         61      0.222      0.246      0.109      0.032\n"
     ]
    },
    {
     "name": "stderr",
     "output_type": "stream",
     "text": [
      "\n"
     ]
    },
    {
     "name": "stdout",
     "output_type": "stream",
     "text": [
      "\n",
      "      Epoch    GPU_mem   box_loss   cls_loss   dfl_loss  Instances       Size\n"
     ]
    },
    {
     "name": "stderr",
     "output_type": "stream",
     "text": [
      "      12/50      2.18G      1.713      1.901      1.557         27        640: 100%|██████████| 9/9 [00:01<00:00,  5.44it/s]\n",
      "                 Class     Images  Instances      Box(P          R      mAP50  mAP50-95): 100%|██████████| 1/1 [00:00<00:00,  3.56it/s]"
     ]
    },
    {
     "name": "stdout",
     "output_type": "stream",
     "text": [
      "                   all         31         61      0.373       0.23      0.197     0.0722\n"
     ]
    },
    {
     "name": "stderr",
     "output_type": "stream",
     "text": [
      "\n"
     ]
    },
    {
     "name": "stdout",
     "output_type": "stream",
     "text": [
      "\n",
      "      Epoch    GPU_mem   box_loss   cls_loss   dfl_loss  Instances       Size\n"
     ]
    },
    {
     "name": "stderr",
     "output_type": "stream",
     "text": [
      "      13/50      2.18G      1.732      1.922      1.606         37        640: 100%|██████████| 9/9 [00:01<00:00,  5.35it/s]\n",
      "                 Class     Images  Instances      Box(P          R      mAP50  mAP50-95): 100%|██████████| 1/1 [00:00<00:00,  3.56it/s]"
     ]
    },
    {
     "name": "stdout",
     "output_type": "stream",
     "text": [
      "                   all         31         61      0.704      0.234      0.313      0.106\n"
     ]
    },
    {
     "name": "stderr",
     "output_type": "stream",
     "text": [
      "\n"
     ]
    },
    {
     "name": "stdout",
     "output_type": "stream",
     "text": [
      "\n",
      "      Epoch    GPU_mem   box_loss   cls_loss   dfl_loss  Instances       Size\n"
     ]
    },
    {
     "name": "stderr",
     "output_type": "stream",
     "text": [
      "      14/50      2.18G      1.766      1.839      1.623         42        640: 100%|██████████| 9/9 [00:01<00:00,  5.40it/s]\n",
      "                 Class     Images  Instances      Box(P          R      mAP50  mAP50-95): 100%|██████████| 1/1 [00:00<00:00,  3.63it/s]"
     ]
    },
    {
     "name": "stdout",
     "output_type": "stream",
     "text": [
      "                   all         31         61      0.482      0.305      0.317     0.0922\n"
     ]
    },
    {
     "name": "stderr",
     "output_type": "stream",
     "text": [
      "\n"
     ]
    },
    {
     "name": "stdout",
     "output_type": "stream",
     "text": [
      "\n",
      "      Epoch    GPU_mem   box_loss   cls_loss   dfl_loss  Instances       Size\n"
     ]
    },
    {
     "name": "stderr",
     "output_type": "stream",
     "text": [
      "      15/50      2.18G      1.741      1.919      1.655         54        640: 100%|██████████| 9/9 [00:01<00:00,  5.42it/s]\n",
      "                 Class     Images  Instances      Box(P          R      mAP50  mAP50-95): 100%|██████████| 1/1 [00:00<00:00,  3.45it/s]"
     ]
    },
    {
     "name": "stdout",
     "output_type": "stream",
     "text": [
      "                   all         31         61      0.392      0.295      0.193     0.0742\n"
     ]
    },
    {
     "name": "stderr",
     "output_type": "stream",
     "text": [
      "\n"
     ]
    },
    {
     "name": "stdout",
     "output_type": "stream",
     "text": [
      "\n",
      "      Epoch    GPU_mem   box_loss   cls_loss   dfl_loss  Instances       Size\n"
     ]
    },
    {
     "name": "stderr",
     "output_type": "stream",
     "text": [
      "      16/50      2.18G        1.8      1.888      1.621         31        640: 100%|██████████| 9/9 [00:01<00:00,  4.96it/s]\n",
      "                 Class     Images  Instances      Box(P          R      mAP50  mAP50-95): 100%|██████████| 1/1 [00:00<00:00,  3.49it/s]"
     ]
    },
    {
     "name": "stdout",
     "output_type": "stream",
     "text": [
      "                   all         31         61      0.467      0.246      0.204     0.0594\n"
     ]
    },
    {
     "name": "stderr",
     "output_type": "stream",
     "text": [
      "\n"
     ]
    },
    {
     "name": "stdout",
     "output_type": "stream",
     "text": [
      "\n",
      "      Epoch    GPU_mem   box_loss   cls_loss   dfl_loss  Instances       Size\n"
     ]
    },
    {
     "name": "stderr",
     "output_type": "stream",
     "text": [
      "      17/50      2.18G      1.756      1.855      1.614         46        640: 100%|██████████| 9/9 [00:01<00:00,  5.30it/s]\n",
      "                 Class     Images  Instances      Box(P          R      mAP50  mAP50-95): 100%|██████████| 1/1 [00:00<00:00,  2.83it/s]"
     ]
    },
    {
     "name": "stdout",
     "output_type": "stream",
     "text": [
      "                   all         31         61      0.432      0.328        0.3      0.122\n"
     ]
    },
    {
     "name": "stderr",
     "output_type": "stream",
     "text": [
      "\n"
     ]
    },
    {
     "name": "stdout",
     "output_type": "stream",
     "text": [
      "\n",
      "      Epoch    GPU_mem   box_loss   cls_loss   dfl_loss  Instances       Size\n"
     ]
    },
    {
     "name": "stderr",
     "output_type": "stream",
     "text": [
      "      18/50      2.18G      1.694      1.772      1.597         30        640: 100%|██████████| 9/9 [00:01<00:00,  5.68it/s]\n",
      "                 Class     Images  Instances      Box(P          R      mAP50  mAP50-95): 100%|██████████| 1/1 [00:00<00:00,  5.14it/s]"
     ]
    },
    {
     "name": "stdout",
     "output_type": "stream",
     "text": [
      "                   all         31         61      0.414      0.443      0.386      0.162\n"
     ]
    },
    {
     "name": "stderr",
     "output_type": "stream",
     "text": [
      "\n"
     ]
    },
    {
     "name": "stdout",
     "output_type": "stream",
     "text": [
      "\n",
      "      Epoch    GPU_mem   box_loss   cls_loss   dfl_loss  Instances       Size\n"
     ]
    },
    {
     "name": "stderr",
     "output_type": "stream",
     "text": [
      "      19/50      2.18G      1.658      1.745      1.529         31        640: 100%|██████████| 9/9 [00:01<00:00,  5.76it/s]\n",
      "                 Class     Images  Instances      Box(P          R      mAP50  mAP50-95): 100%|██████████| 1/1 [00:00<00:00,  4.37it/s]"
     ]
    },
    {
     "name": "stdout",
     "output_type": "stream",
     "text": [
      "                   all         31         61      0.507      0.443      0.383      0.153\n"
     ]
    },
    {
     "name": "stderr",
     "output_type": "stream",
     "text": [
      "\n"
     ]
    },
    {
     "name": "stdout",
     "output_type": "stream",
     "text": [
      "\n",
      "      Epoch    GPU_mem   box_loss   cls_loss   dfl_loss  Instances       Size\n"
     ]
    },
    {
     "name": "stderr",
     "output_type": "stream",
     "text": [
      "      20/50      2.18G      1.615      1.661      1.495         43        640: 100%|██████████| 9/9 [00:01<00:00,  5.78it/s]\n",
      "                 Class     Images  Instances      Box(P          R      mAP50  mAP50-95): 100%|██████████| 1/1 [00:00<00:00,  4.76it/s]"
     ]
    },
    {
     "name": "stdout",
     "output_type": "stream",
     "text": [
      "                   all         31         61      0.638      0.361      0.429      0.157\n"
     ]
    },
    {
     "name": "stderr",
     "output_type": "stream",
     "text": [
      "\n"
     ]
    },
    {
     "name": "stdout",
     "output_type": "stream",
     "text": [
      "\n",
      "      Epoch    GPU_mem   box_loss   cls_loss   dfl_loss  Instances       Size\n"
     ]
    },
    {
     "name": "stderr",
     "output_type": "stream",
     "text": [
      "      21/50      2.18G      1.505      1.586      1.451         46        640: 100%|██████████| 9/9 [00:01<00:00,  5.74it/s]\n",
      "                 Class     Images  Instances      Box(P          R      mAP50  mAP50-95): 100%|██████████| 1/1 [00:00<00:00,  5.12it/s]"
     ]
    },
    {
     "name": "stdout",
     "output_type": "stream",
     "text": [
      "                   all         31         61      0.602      0.459      0.456      0.152\n"
     ]
    },
    {
     "name": "stderr",
     "output_type": "stream",
     "text": [
      "\n"
     ]
    },
    {
     "name": "stdout",
     "output_type": "stream",
     "text": [
      "\n",
      "      Epoch    GPU_mem   box_loss   cls_loss   dfl_loss  Instances       Size\n"
     ]
    },
    {
     "name": "stderr",
     "output_type": "stream",
     "text": [
      "      22/50      2.18G      1.568      1.546      1.475         31        640: 100%|██████████| 9/9 [00:01<00:00,  5.77it/s]\n",
      "                 Class     Images  Instances      Box(P          R      mAP50  mAP50-95): 100%|██████████| 1/1 [00:00<00:00,  5.11it/s]"
     ]
    },
    {
     "name": "stdout",
     "output_type": "stream",
     "text": [
      "                   all         31         61      0.533      0.543      0.452      0.184\n"
     ]
    },
    {
     "name": "stderr",
     "output_type": "stream",
     "text": [
      "\n"
     ]
    },
    {
     "name": "stdout",
     "output_type": "stream",
     "text": [
      "\n",
      "      Epoch    GPU_mem   box_loss   cls_loss   dfl_loss  Instances       Size\n"
     ]
    },
    {
     "name": "stderr",
     "output_type": "stream",
     "text": [
      "      23/50      2.18G      1.599      1.593      1.494         37        640: 100%|██████████| 9/9 [00:01<00:00,  5.57it/s]\n",
      "                 Class     Images  Instances      Box(P          R      mAP50  mAP50-95): 100%|██████████| 1/1 [00:00<00:00,  4.56it/s]"
     ]
    },
    {
     "name": "stdout",
     "output_type": "stream",
     "text": [
      "                   all         31         61      0.453      0.344      0.328      0.155\n"
     ]
    },
    {
     "name": "stderr",
     "output_type": "stream",
     "text": [
      "\n"
     ]
    },
    {
     "name": "stdout",
     "output_type": "stream",
     "text": [
      "\n",
      "      Epoch    GPU_mem   box_loss   cls_loss   dfl_loss  Instances       Size\n"
     ]
    },
    {
     "name": "stderr",
     "output_type": "stream",
     "text": [
      "      24/50      2.18G      1.546       1.47      1.466         35        640: 100%|██████████| 9/9 [00:01<00:00,  5.70it/s]\n",
      "                 Class     Images  Instances      Box(P          R      mAP50  mAP50-95): 100%|██████████| 1/1 [00:00<00:00,  4.85it/s]"
     ]
    },
    {
     "name": "stdout",
     "output_type": "stream",
     "text": [
      "                   all         31         61      0.612      0.328      0.401       0.15\n"
     ]
    },
    {
     "name": "stderr",
     "output_type": "stream",
     "text": [
      "\n"
     ]
    },
    {
     "name": "stdout",
     "output_type": "stream",
     "text": [
      "\n",
      "      Epoch    GPU_mem   box_loss   cls_loss   dfl_loss  Instances       Size\n"
     ]
    },
    {
     "name": "stderr",
     "output_type": "stream",
     "text": [
      "      25/50      2.18G       1.52      1.432      1.423         44        640: 100%|██████████| 9/9 [00:01<00:00,  5.83it/s]\n",
      "                 Class     Images  Instances      Box(P          R      mAP50  mAP50-95): 100%|██████████| 1/1 [00:00<00:00,  5.07it/s]"
     ]
    },
    {
     "name": "stdout",
     "output_type": "stream",
     "text": [
      "                   all         31         61      0.543      0.475      0.472      0.162\n"
     ]
    },
    {
     "name": "stderr",
     "output_type": "stream",
     "text": [
      "\n"
     ]
    },
    {
     "name": "stdout",
     "output_type": "stream",
     "text": [
      "\n",
      "      Epoch    GPU_mem   box_loss   cls_loss   dfl_loss  Instances       Size\n"
     ]
    },
    {
     "name": "stderr",
     "output_type": "stream",
     "text": [
      "      26/50      2.18G      1.532      1.433      1.446         33        640: 100%|██████████| 9/9 [00:01<00:00,  5.78it/s]\n",
      "                 Class     Images  Instances      Box(P          R      mAP50  mAP50-95): 100%|██████████| 1/1 [00:00<00:00,  4.84it/s]"
     ]
    },
    {
     "name": "stdout",
     "output_type": "stream",
     "text": [
      "                   all         31         61      0.516      0.557      0.536       0.22\n"
     ]
    },
    {
     "name": "stderr",
     "output_type": "stream",
     "text": [
      "\n"
     ]
    },
    {
     "name": "stdout",
     "output_type": "stream",
     "text": [
      "\n",
      "      Epoch    GPU_mem   box_loss   cls_loss   dfl_loss  Instances       Size\n"
     ]
    },
    {
     "name": "stderr",
     "output_type": "stream",
     "text": [
      "      27/50      2.18G      1.451      1.352      1.415         27        640: 100%|██████████| 9/9 [00:01<00:00,  5.81it/s]\n",
      "                 Class     Images  Instances      Box(P          R      mAP50  mAP50-95): 100%|██████████| 1/1 [00:00<00:00,  4.92it/s]"
     ]
    },
    {
     "name": "stdout",
     "output_type": "stream",
     "text": [
      "                   all         31         61      0.618      0.525      0.537      0.239\n"
     ]
    },
    {
     "name": "stderr",
     "output_type": "stream",
     "text": [
      "\n"
     ]
    },
    {
     "name": "stdout",
     "output_type": "stream",
     "text": [
      "\n",
      "      Epoch    GPU_mem   box_loss   cls_loss   dfl_loss  Instances       Size\n"
     ]
    },
    {
     "name": "stderr",
     "output_type": "stream",
     "text": [
      "      28/50      2.18G      1.423      1.382      1.384         19        640: 100%|██████████| 9/9 [00:01<00:00,  5.73it/s]\n",
      "                 Class     Images  Instances      Box(P          R      mAP50  mAP50-95): 100%|██████████| 1/1 [00:00<00:00,  5.37it/s]"
     ]
    },
    {
     "name": "stdout",
     "output_type": "stream",
     "text": [
      "                   all         31         61      0.537      0.525      0.467      0.219\n"
     ]
    },
    {
     "name": "stderr",
     "output_type": "stream",
     "text": [
      "\n"
     ]
    },
    {
     "name": "stdout",
     "output_type": "stream",
     "text": [
      "\n",
      "      Epoch    GPU_mem   box_loss   cls_loss   dfl_loss  Instances       Size\n"
     ]
    },
    {
     "name": "stderr",
     "output_type": "stream",
     "text": [
      "      29/50      2.18G      1.529      1.325      1.439         48        640: 100%|██████████| 9/9 [00:01<00:00,  5.73it/s]\n",
      "                 Class     Images  Instances      Box(P          R      mAP50  mAP50-95): 100%|██████████| 1/1 [00:00<00:00,  4.76it/s]"
     ]
    },
    {
     "name": "stdout",
     "output_type": "stream",
     "text": [
      "                   all         31         61       0.67      0.475      0.501      0.223\n"
     ]
    },
    {
     "name": "stderr",
     "output_type": "stream",
     "text": [
      "\n"
     ]
    },
    {
     "name": "stdout",
     "output_type": "stream",
     "text": [
      "\n",
      "      Epoch    GPU_mem   box_loss   cls_loss   dfl_loss  Instances       Size\n"
     ]
    },
    {
     "name": "stderr",
     "output_type": "stream",
     "text": [
      "      30/50      2.18G      1.447       1.27      1.353         34        640: 100%|██████████| 9/9 [00:01<00:00,  5.69it/s]\n",
      "                 Class     Images  Instances      Box(P          R      mAP50  mAP50-95): 100%|██████████| 1/1 [00:00<00:00,  4.66it/s]"
     ]
    },
    {
     "name": "stdout",
     "output_type": "stream",
     "text": [
      "                   all         31         61      0.627      0.541      0.556        0.2\n"
     ]
    },
    {
     "name": "stderr",
     "output_type": "stream",
     "text": [
      "\n"
     ]
    },
    {
     "name": "stdout",
     "output_type": "stream",
     "text": [
      "\n",
      "      Epoch    GPU_mem   box_loss   cls_loss   dfl_loss  Instances       Size\n"
     ]
    },
    {
     "name": "stderr",
     "output_type": "stream",
     "text": [
      "      31/50      2.18G      1.447      1.265      1.368         31        640: 100%|██████████| 9/9 [00:01<00:00,  5.82it/s]\n",
      "                 Class     Images  Instances      Box(P          R      mAP50  mAP50-95): 100%|██████████| 1/1 [00:00<00:00,  4.70it/s]"
     ]
    },
    {
     "name": "stdout",
     "output_type": "stream",
     "text": [
      "                   all         31         61      0.581      0.492      0.498      0.205\n"
     ]
    },
    {
     "name": "stderr",
     "output_type": "stream",
     "text": [
      "\n"
     ]
    },
    {
     "name": "stdout",
     "output_type": "stream",
     "text": [
      "\n",
      "      Epoch    GPU_mem   box_loss   cls_loss   dfl_loss  Instances       Size\n"
     ]
    },
    {
     "name": "stderr",
     "output_type": "stream",
     "text": [
      "      32/50      2.18G      1.425      1.225      1.383         42        640: 100%|██████████| 9/9 [00:01<00:00,  5.54it/s]\n",
      "                 Class     Images  Instances      Box(P          R      mAP50  mAP50-95): 100%|██████████| 1/1 [00:00<00:00,  4.64it/s]"
     ]
    },
    {
     "name": "stdout",
     "output_type": "stream",
     "text": [
      "                   all         31         61      0.449      0.495      0.446      0.202\n"
     ]
    },
    {
     "name": "stderr",
     "output_type": "stream",
     "text": [
      "\n"
     ]
    },
    {
     "name": "stdout",
     "output_type": "stream",
     "text": [
      "\n",
      "      Epoch    GPU_mem   box_loss   cls_loss   dfl_loss  Instances       Size\n"
     ]
    },
    {
     "name": "stderr",
     "output_type": "stream",
     "text": [
      "      33/50      2.18G      1.371       1.25      1.363         40        640: 100%|██████████| 9/9 [00:01<00:00,  5.86it/s]\n",
      "                 Class     Images  Instances      Box(P          R      mAP50  mAP50-95): 100%|██████████| 1/1 [00:00<00:00,  5.23it/s]"
     ]
    },
    {
     "name": "stdout",
     "output_type": "stream",
     "text": [
      "                   all         31         61      0.646      0.449      0.523      0.209\n"
     ]
    },
    {
     "name": "stderr",
     "output_type": "stream",
     "text": [
      "\n"
     ]
    },
    {
     "name": "stdout",
     "output_type": "stream",
     "text": [
      "\n",
      "      Epoch    GPU_mem   box_loss   cls_loss   dfl_loss  Instances       Size\n"
     ]
    },
    {
     "name": "stderr",
     "output_type": "stream",
     "text": [
      "      34/50      2.18G      1.362      1.185      1.371         28        640: 100%|██████████| 9/9 [00:01<00:00,  5.74it/s]\n",
      "                 Class     Images  Instances      Box(P          R      mAP50  mAP50-95): 100%|██████████| 1/1 [00:00<00:00,  4.98it/s]"
     ]
    },
    {
     "name": "stdout",
     "output_type": "stream",
     "text": [
      "                   all         31         61      0.554      0.557      0.531      0.218\n"
     ]
    },
    {
     "name": "stderr",
     "output_type": "stream",
     "text": [
      "\n"
     ]
    },
    {
     "name": "stdout",
     "output_type": "stream",
     "text": [
      "\n",
      "      Epoch    GPU_mem   box_loss   cls_loss   dfl_loss  Instances       Size\n"
     ]
    },
    {
     "name": "stderr",
     "output_type": "stream",
     "text": [
      "      35/50      2.18G      1.317      1.136      1.296         27        640: 100%|██████████| 9/9 [00:01<00:00,  5.75it/s]\n",
      "                 Class     Images  Instances      Box(P          R      mAP50  mAP50-95): 100%|██████████| 1/1 [00:00<00:00,  4.60it/s]"
     ]
    },
    {
     "name": "stdout",
     "output_type": "stream",
     "text": [
      "                   all         31         61      0.656      0.492      0.511      0.212\n"
     ]
    },
    {
     "name": "stderr",
     "output_type": "stream",
     "text": [
      "\n"
     ]
    },
    {
     "name": "stdout",
     "output_type": "stream",
     "text": [
      "\n",
      "      Epoch    GPU_mem   box_loss   cls_loss   dfl_loss  Instances       Size\n"
     ]
    },
    {
     "name": "stderr",
     "output_type": "stream",
     "text": [
      "      36/50      2.18G       1.35      1.144      1.317         39        640: 100%|██████████| 9/9 [00:01<00:00,  5.75it/s]\n",
      "                 Class     Images  Instances      Box(P          R      mAP50  mAP50-95): 100%|██████████| 1/1 [00:00<00:00,  4.76it/s]"
     ]
    },
    {
     "name": "stdout",
     "output_type": "stream",
     "text": [
      "                   all         31         61       0.56      0.543        0.5      0.201\n"
     ]
    },
    {
     "name": "stderr",
     "output_type": "stream",
     "text": [
      "\n"
     ]
    },
    {
     "name": "stdout",
     "output_type": "stream",
     "text": [
      "\n",
      "      Epoch    GPU_mem   box_loss   cls_loss   dfl_loss  Instances       Size\n"
     ]
    },
    {
     "name": "stderr",
     "output_type": "stream",
     "text": [
      "      37/50      2.18G      1.309      1.112      1.311         28        640: 100%|██████████| 9/9 [00:01<00:00,  5.80it/s]\n",
      "                 Class     Images  Instances      Box(P          R      mAP50  mAP50-95): 100%|██████████| 1/1 [00:00<00:00,  4.66it/s]"
     ]
    },
    {
     "name": "stdout",
     "output_type": "stream",
     "text": [
      "                   all         31         61      0.701      0.508      0.534      0.228\n"
     ]
    },
    {
     "name": "stderr",
     "output_type": "stream",
     "text": [
      "\n"
     ]
    },
    {
     "name": "stdout",
     "output_type": "stream",
     "text": [
      "\n",
      "      Epoch    GPU_mem   box_loss   cls_loss   dfl_loss  Instances       Size\n"
     ]
    },
    {
     "name": "stderr",
     "output_type": "stream",
     "text": [
      "      38/50      2.18G      1.295      1.094      1.323         39        640: 100%|██████████| 9/9 [00:01<00:00,  5.72it/s]\n",
      "                 Class     Images  Instances      Box(P          R      mAP50  mAP50-95): 100%|██████████| 1/1 [00:00<00:00,  4.91it/s]"
     ]
    },
    {
     "name": "stdout",
     "output_type": "stream",
     "text": [
      "                   all         31         61      0.621       0.51      0.551      0.226\n"
     ]
    },
    {
     "name": "stderr",
     "output_type": "stream",
     "text": [
      "\n"
     ]
    },
    {
     "name": "stdout",
     "output_type": "stream",
     "text": [
      "\n",
      "      Epoch    GPU_mem   box_loss   cls_loss   dfl_loss  Instances       Size\n"
     ]
    },
    {
     "name": "stderr",
     "output_type": "stream",
     "text": [
      "      39/50      2.18G      1.237      1.078      1.265         28        640: 100%|██████████| 9/9 [00:01<00:00,  5.79it/s]\n",
      "                 Class     Images  Instances      Box(P          R      mAP50  mAP50-95): 100%|██████████| 1/1 [00:00<00:00,  5.03it/s]"
     ]
    },
    {
     "name": "stdout",
     "output_type": "stream",
     "text": [
      "                   all         31         61      0.544      0.541      0.544      0.223\n"
     ]
    },
    {
     "name": "stderr",
     "output_type": "stream",
     "text": [
      "\n"
     ]
    },
    {
     "name": "stdout",
     "output_type": "stream",
     "text": [
      "\n",
      "      Epoch    GPU_mem   box_loss   cls_loss   dfl_loss  Instances       Size\n"
     ]
    },
    {
     "name": "stderr",
     "output_type": "stream",
     "text": [
      "      40/50      2.18G       1.28      1.066      1.342         22        640: 100%|██████████| 9/9 [00:01<00:00,  5.64it/s]\n",
      "                 Class     Images  Instances      Box(P          R      mAP50  mAP50-95): 100%|██████████| 1/1 [00:00<00:00,  4.76it/s]"
     ]
    },
    {
     "name": "stdout",
     "output_type": "stream",
     "text": [
      "                   all         31         61      0.681      0.459      0.513      0.228\n"
     ]
    },
    {
     "name": "stderr",
     "output_type": "stream",
     "text": [
      "\n"
     ]
    },
    {
     "name": "stdout",
     "output_type": "stream",
     "text": [
      "Closing dataloader mosaic\n",
      "\n",
      "      Epoch    GPU_mem   box_loss   cls_loss   dfl_loss  Instances       Size\n"
     ]
    },
    {
     "name": "stderr",
     "output_type": "stream",
     "text": [
      "      41/50      2.18G      1.201      1.111      1.241         20        640: 100%|██████████| 9/9 [00:02<00:00,  4.17it/s]\n",
      "                 Class     Images  Instances      Box(P          R      mAP50  mAP50-95): 100%|██████████| 1/1 [00:00<00:00,  4.79it/s]"
     ]
    },
    {
     "name": "stdout",
     "output_type": "stream",
     "text": [
      "                   all         31         61       0.62      0.455      0.436      0.189\n"
     ]
    },
    {
     "name": "stderr",
     "output_type": "stream",
     "text": [
      "\n"
     ]
    },
    {
     "name": "stdout",
     "output_type": "stream",
     "text": [
      "\n",
      "      Epoch    GPU_mem   box_loss   cls_loss   dfl_loss  Instances       Size\n"
     ]
    },
    {
     "name": "stderr",
     "output_type": "stream",
     "text": [
      "      42/50      2.18G      1.221      1.057      1.242         16        640: 100%|██████████| 9/9 [00:01<00:00,  5.80it/s]\n",
      "                 Class     Images  Instances      Box(P          R      mAP50  mAP50-95): 100%|██████████| 1/1 [00:00<00:00,  4.95it/s]"
     ]
    },
    {
     "name": "stdout",
     "output_type": "stream",
     "text": [
      "                   all         31         61      0.635      0.456      0.455      0.182\n"
     ]
    },
    {
     "name": "stderr",
     "output_type": "stream",
     "text": [
      "\n"
     ]
    },
    {
     "name": "stdout",
     "output_type": "stream",
     "text": [
      "\n",
      "      Epoch    GPU_mem   box_loss   cls_loss   dfl_loss  Instances       Size\n"
     ]
    },
    {
     "name": "stderr",
     "output_type": "stream",
     "text": [
      "      43/50      2.18G       1.22      1.087      1.227         28        640: 100%|██████████| 9/9 [00:01<00:00,  5.84it/s]\n",
      "                 Class     Images  Instances      Box(P          R      mAP50  mAP50-95): 100%|██████████| 1/1 [00:00<00:00,  4.45it/s]"
     ]
    },
    {
     "name": "stdout",
     "output_type": "stream",
     "text": [
      "                   all         31         61      0.682      0.475      0.472      0.189\n"
     ]
    },
    {
     "name": "stderr",
     "output_type": "stream",
     "text": [
      "\n"
     ]
    },
    {
     "name": "stdout",
     "output_type": "stream",
     "text": [
      "\n",
      "      Epoch    GPU_mem   box_loss   cls_loss   dfl_loss  Instances       Size\n"
     ]
    },
    {
     "name": "stderr",
     "output_type": "stream",
     "text": [
      "      44/50      2.18G      1.154     0.9552      1.225         18        640: 100%|██████████| 9/9 [00:01<00:00,  5.76it/s]\n",
      "                 Class     Images  Instances      Box(P          R      mAP50  mAP50-95): 100%|██████████| 1/1 [00:00<00:00,  4.57it/s]"
     ]
    },
    {
     "name": "stdout",
     "output_type": "stream",
     "text": [
      "                   all         31         61       0.71      0.492      0.553      0.224\n"
     ]
    },
    {
     "name": "stderr",
     "output_type": "stream",
     "text": [
      "\n"
     ]
    },
    {
     "name": "stdout",
     "output_type": "stream",
     "text": [
      "\n",
      "      Epoch    GPU_mem   box_loss   cls_loss   dfl_loss  Instances       Size\n"
     ]
    },
    {
     "name": "stderr",
     "output_type": "stream",
     "text": [
      "      45/50      2.18G      1.063     0.9533      1.175         18        640: 100%|██████████| 9/9 [00:01<00:00,  5.83it/s]\n",
      "                 Class     Images  Instances      Box(P          R      mAP50  mAP50-95): 100%|██████████| 1/1 [00:00<00:00,  5.08it/s]"
     ]
    },
    {
     "name": "stdout",
     "output_type": "stream",
     "text": [
      "                   all         31         61      0.711      0.565      0.586      0.239\n"
     ]
    },
    {
     "name": "stderr",
     "output_type": "stream",
     "text": [
      "\n"
     ]
    },
    {
     "name": "stdout",
     "output_type": "stream",
     "text": [
      "\n",
      "      Epoch    GPU_mem   box_loss   cls_loss   dfl_loss  Instances       Size\n"
     ]
    },
    {
     "name": "stderr",
     "output_type": "stream",
     "text": [
      "      46/50      2.18G      1.101     0.9122      1.182         25        640: 100%|██████████| 9/9 [00:01<00:00,  5.73it/s]\n",
      "                 Class     Images  Instances      Box(P          R      mAP50  mAP50-95): 100%|██████████| 1/1 [00:00<00:00,  5.01it/s]"
     ]
    },
    {
     "name": "stdout",
     "output_type": "stream",
     "text": [
      "                   all         31         61      0.659      0.557      0.564      0.237\n"
     ]
    },
    {
     "name": "stderr",
     "output_type": "stream",
     "text": [
      "\n"
     ]
    },
    {
     "name": "stdout",
     "output_type": "stream",
     "text": [
      "\n",
      "      Epoch    GPU_mem   box_loss   cls_loss   dfl_loss  Instances       Size\n"
     ]
    },
    {
     "name": "stderr",
     "output_type": "stream",
     "text": [
      "      47/50      2.18G      1.124     0.9207      1.188         15        640: 100%|██████████| 9/9 [00:01<00:00,  5.84it/s]\n",
      "                 Class     Images  Instances      Box(P          R      mAP50  mAP50-95): 100%|██████████| 1/1 [00:00<00:00,  4.86it/s]"
     ]
    },
    {
     "name": "stdout",
     "output_type": "stream",
     "text": [
      "                   all         31         61      0.679      0.508      0.568      0.229\n"
     ]
    },
    {
     "name": "stderr",
     "output_type": "stream",
     "text": [
      "\n"
     ]
    },
    {
     "name": "stdout",
     "output_type": "stream",
     "text": [
      "\n",
      "      Epoch    GPU_mem   box_loss   cls_loss   dfl_loss  Instances       Size\n"
     ]
    },
    {
     "name": "stderr",
     "output_type": "stream",
     "text": [
      "      48/50      2.18G      1.036      0.915      1.165         23        640: 100%|██████████| 9/9 [00:01<00:00,  5.82it/s]\n",
      "                 Class     Images  Instances      Box(P          R      mAP50  mAP50-95): 100%|██████████| 1/1 [00:00<00:00,  5.10it/s]"
     ]
    },
    {
     "name": "stdout",
     "output_type": "stream",
     "text": [
      "                   all         31         61      0.664      0.525      0.557      0.226\n"
     ]
    },
    {
     "name": "stderr",
     "output_type": "stream",
     "text": [
      "\n"
     ]
    },
    {
     "name": "stdout",
     "output_type": "stream",
     "text": [
      "\n",
      "      Epoch    GPU_mem   box_loss   cls_loss   dfl_loss  Instances       Size\n"
     ]
    },
    {
     "name": "stderr",
     "output_type": "stream",
     "text": [
      "      49/50      2.18G      1.009     0.8854      1.118         24        640: 100%|██████████| 9/9 [00:01<00:00,  5.94it/s]\n",
      "                 Class     Images  Instances      Box(P          R      mAP50  mAP50-95): 100%|██████████| 1/1 [00:00<00:00,  4.95it/s]"
     ]
    },
    {
     "name": "stdout",
     "output_type": "stream",
     "text": [
      "                   all         31         61      0.684      0.541      0.554      0.226\n"
     ]
    },
    {
     "name": "stderr",
     "output_type": "stream",
     "text": [
      "\n"
     ]
    },
    {
     "name": "stdout",
     "output_type": "stream",
     "text": [
      "\n",
      "      Epoch    GPU_mem   box_loss   cls_loss   dfl_loss  Instances       Size\n"
     ]
    },
    {
     "name": "stderr",
     "output_type": "stream",
     "text": [
      "      50/50      2.18G      1.012     0.9195      1.181         21        640: 100%|██████████| 9/9 [00:01<00:00,  5.86it/s]\n",
      "                 Class     Images  Instances      Box(P          R      mAP50  mAP50-95): 100%|██████████| 1/1 [00:00<00:00,  5.03it/s]"
     ]
    },
    {
     "name": "stdout",
     "output_type": "stream",
     "text": [
      "                   all         31         61      0.641      0.586      0.573      0.233\n"
     ]
    },
    {
     "name": "stderr",
     "output_type": "stream",
     "text": [
      "\n"
     ]
    },
    {
     "name": "stdout",
     "output_type": "stream",
     "text": [
      "\n",
      "50 epochs completed in 0.043 hours.\n",
      "Optimizer stripped from runs\\detect\\train16\\weights\\last.pt, 6.3MB\n",
      "Optimizer stripped from runs\\detect\\train16\\weights\\best.pt, 6.3MB\n",
      "\n",
      "Validating runs\\detect\\train16\\weights\\best.pt...\n",
      "Ultralytics 8.3.109  Python-3.11.8 torch-2.3.1+cu118 CUDA:0 (NVIDIA GeForce RTX 3050 6GB Laptop GPU, 6144MiB)\n",
      "Model summary (fused): 72 layers, 3,005,843 parameters, 0 gradients, 8.1 GFLOPs\n"
     ]
    },
    {
     "name": "stderr",
     "output_type": "stream",
     "text": [
      "                 Class     Images  Instances      Box(P          R      mAP50  mAP50-95): 100%|██████████| 1/1 [00:00<00:00,  4.43it/s]\n"
     ]
    },
    {
     "name": "stdout",
     "output_type": "stream",
     "text": [
      "                   all         31         61      0.697      0.566      0.582      0.237\n",
      "Speed: 0.2ms preprocess, 2.6ms inference, 0.0ms loss, 0.6ms postprocess per image\n",
      "Results saved to \u001b[1mruns\\detect\\train16\u001b[0m\n"
     ]
    },
    {
     "data": {
      "text/plain": [
       "ultralytics.utils.metrics.DetMetrics object with attributes:\n",
       "\n",
       "ap_class_index: array([0])\n",
       "box: ultralytics.utils.metrics.Metric object\n",
       "confusion_matrix: <ultralytics.utils.metrics.ConfusionMatrix object at 0x0000020754DD3D50>\n",
       "curves: ['Precision-Recall(B)', 'F1-Confidence(B)', 'Precision-Confidence(B)', 'Recall-Confidence(B)']\n",
       "curves_results: [[array([          0,    0.001001,    0.002002,    0.003003,    0.004004,    0.005005,    0.006006,    0.007007,    0.008008,    0.009009,     0.01001,    0.011011,    0.012012,    0.013013,    0.014014,    0.015015,    0.016016,    0.017017,    0.018018,    0.019019,     0.02002,    0.021021,    0.022022,    0.023023,\n",
       "          0.024024,    0.025025,    0.026026,    0.027027,    0.028028,    0.029029,     0.03003,    0.031031,    0.032032,    0.033033,    0.034034,    0.035035,    0.036036,    0.037037,    0.038038,    0.039039,     0.04004,    0.041041,    0.042042,    0.043043,    0.044044,    0.045045,    0.046046,    0.047047,\n",
       "          0.048048,    0.049049,     0.05005,    0.051051,    0.052052,    0.053053,    0.054054,    0.055055,    0.056056,    0.057057,    0.058058,    0.059059,     0.06006,    0.061061,    0.062062,    0.063063,    0.064064,    0.065065,    0.066066,    0.067067,    0.068068,    0.069069,     0.07007,    0.071071,\n",
       "          0.072072,    0.073073,    0.074074,    0.075075,    0.076076,    0.077077,    0.078078,    0.079079,     0.08008,    0.081081,    0.082082,    0.083083,    0.084084,    0.085085,    0.086086,    0.087087,    0.088088,    0.089089,     0.09009,    0.091091,    0.092092,    0.093093,    0.094094,    0.095095,\n",
       "          0.096096,    0.097097,    0.098098,    0.099099,      0.1001,      0.1011,      0.1021,      0.1031,      0.1041,     0.10511,     0.10611,     0.10711,     0.10811,     0.10911,     0.11011,     0.11111,     0.11211,     0.11311,     0.11411,     0.11512,     0.11612,     0.11712,     0.11812,     0.11912,\n",
       "           0.12012,     0.12112,     0.12212,     0.12312,     0.12412,     0.12513,     0.12613,     0.12713,     0.12813,     0.12913,     0.13013,     0.13113,     0.13213,     0.13313,     0.13413,     0.13514,     0.13614,     0.13714,     0.13814,     0.13914,     0.14014,     0.14114,     0.14214,     0.14314,\n",
       "           0.14414,     0.14515,     0.14615,     0.14715,     0.14815,     0.14915,     0.15015,     0.15115,     0.15215,     0.15315,     0.15415,     0.15516,     0.15616,     0.15716,     0.15816,     0.15916,     0.16016,     0.16116,     0.16216,     0.16316,     0.16416,     0.16517,     0.16617,     0.16717,\n",
       "           0.16817,     0.16917,     0.17017,     0.17117,     0.17217,     0.17317,     0.17417,     0.17518,     0.17618,     0.17718,     0.17818,     0.17918,     0.18018,     0.18118,     0.18218,     0.18318,     0.18418,     0.18519,     0.18619,     0.18719,     0.18819,     0.18919,     0.19019,     0.19119,\n",
       "           0.19219,     0.19319,     0.19419,      0.1952,      0.1962,      0.1972,      0.1982,      0.1992,      0.2002,      0.2012,      0.2022,      0.2032,      0.2042,     0.20521,     0.20621,     0.20721,     0.20821,     0.20921,     0.21021,     0.21121,     0.21221,     0.21321,     0.21421,     0.21522,\n",
       "           0.21622,     0.21722,     0.21822,     0.21922,     0.22022,     0.22122,     0.22222,     0.22322,     0.22422,     0.22523,     0.22623,     0.22723,     0.22823,     0.22923,     0.23023,     0.23123,     0.23223,     0.23323,     0.23423,     0.23524,     0.23624,     0.23724,     0.23824,     0.23924,\n",
       "           0.24024,     0.24124,     0.24224,     0.24324,     0.24424,     0.24525,     0.24625,     0.24725,     0.24825,     0.24925,     0.25025,     0.25125,     0.25225,     0.25325,     0.25425,     0.25526,     0.25626,     0.25726,     0.25826,     0.25926,     0.26026,     0.26126,     0.26226,     0.26326,\n",
       "           0.26426,     0.26527,     0.26627,     0.26727,     0.26827,     0.26927,     0.27027,     0.27127,     0.27227,     0.27327,     0.27427,     0.27528,     0.27628,     0.27728,     0.27828,     0.27928,     0.28028,     0.28128,     0.28228,     0.28328,     0.28428,     0.28529,     0.28629,     0.28729,\n",
       "           0.28829,     0.28929,     0.29029,     0.29129,     0.29229,     0.29329,     0.29429,      0.2953,      0.2963,      0.2973,      0.2983,      0.2993,      0.3003,      0.3013,      0.3023,      0.3033,      0.3043,     0.30531,     0.30631,     0.30731,     0.30831,     0.30931,     0.31031,     0.31131,\n",
       "           0.31231,     0.31331,     0.31431,     0.31532,     0.31632,     0.31732,     0.31832,     0.31932,     0.32032,     0.32132,     0.32232,     0.32332,     0.32432,     0.32533,     0.32633,     0.32733,     0.32833,     0.32933,     0.33033,     0.33133,     0.33233,     0.33333,     0.33433,     0.33534,\n",
       "           0.33634,     0.33734,     0.33834,     0.33934,     0.34034,     0.34134,     0.34234,     0.34334,     0.34434,     0.34535,     0.34635,     0.34735,     0.34835,     0.34935,     0.35035,     0.35135,     0.35235,     0.35335,     0.35435,     0.35536,     0.35636,     0.35736,     0.35836,     0.35936,\n",
       "           0.36036,     0.36136,     0.36236,     0.36336,     0.36436,     0.36537,     0.36637,     0.36737,     0.36837,     0.36937,     0.37037,     0.37137,     0.37237,     0.37337,     0.37437,     0.37538,     0.37638,     0.37738,     0.37838,     0.37938,     0.38038,     0.38138,     0.38238,     0.38338,\n",
       "           0.38438,     0.38539,     0.38639,     0.38739,     0.38839,     0.38939,     0.39039,     0.39139,     0.39239,     0.39339,     0.39439,      0.3954,      0.3964,      0.3974,      0.3984,      0.3994,      0.4004,      0.4014,      0.4024,      0.4034,      0.4044,     0.40541,     0.40641,     0.40741,\n",
       "           0.40841,     0.40941,     0.41041,     0.41141,     0.41241,     0.41341,     0.41441,     0.41542,     0.41642,     0.41742,     0.41842,     0.41942,     0.42042,     0.42142,     0.42242,     0.42342,     0.42442,     0.42543,     0.42643,     0.42743,     0.42843,     0.42943,     0.43043,     0.43143,\n",
       "           0.43243,     0.43343,     0.43443,     0.43544,     0.43644,     0.43744,     0.43844,     0.43944,     0.44044,     0.44144,     0.44244,     0.44344,     0.44444,     0.44545,     0.44645,     0.44745,     0.44845,     0.44945,     0.45045,     0.45145,     0.45245,     0.45345,     0.45445,     0.45546,\n",
       "           0.45646,     0.45746,     0.45846,     0.45946,     0.46046,     0.46146,     0.46246,     0.46346,     0.46446,     0.46547,     0.46647,     0.46747,     0.46847,     0.46947,     0.47047,     0.47147,     0.47247,     0.47347,     0.47447,     0.47548,     0.47648,     0.47748,     0.47848,     0.47948,\n",
       "           0.48048,     0.48148,     0.48248,     0.48348,     0.48448,     0.48549,     0.48649,     0.48749,     0.48849,     0.48949,     0.49049,     0.49149,     0.49249,     0.49349,     0.49449,      0.4955,      0.4965,      0.4975,      0.4985,      0.4995,      0.5005,      0.5015,      0.5025,      0.5035,\n",
       "            0.5045,     0.50551,     0.50651,     0.50751,     0.50851,     0.50951,     0.51051,     0.51151,     0.51251,     0.51351,     0.51451,     0.51552,     0.51652,     0.51752,     0.51852,     0.51952,     0.52052,     0.52152,     0.52252,     0.52352,     0.52452,     0.52553,     0.52653,     0.52753,\n",
       "           0.52853,     0.52953,     0.53053,     0.53153,     0.53253,     0.53353,     0.53453,     0.53554,     0.53654,     0.53754,     0.53854,     0.53954,     0.54054,     0.54154,     0.54254,     0.54354,     0.54454,     0.54555,     0.54655,     0.54755,     0.54855,     0.54955,     0.55055,     0.55155,\n",
       "           0.55255,     0.55355,     0.55455,     0.55556,     0.55656,     0.55756,     0.55856,     0.55956,     0.56056,     0.56156,     0.56256,     0.56356,     0.56456,     0.56557,     0.56657,     0.56757,     0.56857,     0.56957,     0.57057,     0.57157,     0.57257,     0.57357,     0.57457,     0.57558,\n",
       "           0.57658,     0.57758,     0.57858,     0.57958,     0.58058,     0.58158,     0.58258,     0.58358,     0.58458,     0.58559,     0.58659,     0.58759,     0.58859,     0.58959,     0.59059,     0.59159,     0.59259,     0.59359,     0.59459,      0.5956,      0.5966,      0.5976,      0.5986,      0.5996,\n",
       "            0.6006,      0.6016,      0.6026,      0.6036,      0.6046,     0.60561,     0.60661,     0.60761,     0.60861,     0.60961,     0.61061,     0.61161,     0.61261,     0.61361,     0.61461,     0.61562,     0.61662,     0.61762,     0.61862,     0.61962,     0.62062,     0.62162,     0.62262,     0.62362,\n",
       "           0.62462,     0.62563,     0.62663,     0.62763,     0.62863,     0.62963,     0.63063,     0.63163,     0.63263,     0.63363,     0.63463,     0.63564,     0.63664,     0.63764,     0.63864,     0.63964,     0.64064,     0.64164,     0.64264,     0.64364,     0.64464,     0.64565,     0.64665,     0.64765,\n",
       "           0.64865,     0.64965,     0.65065,     0.65165,     0.65265,     0.65365,     0.65465,     0.65566,     0.65666,     0.65766,     0.65866,     0.65966,     0.66066,     0.66166,     0.66266,     0.66366,     0.66466,     0.66567,     0.66667,     0.66767,     0.66867,     0.66967,     0.67067,     0.67167,\n",
       "           0.67267,     0.67367,     0.67467,     0.67568,     0.67668,     0.67768,     0.67868,     0.67968,     0.68068,     0.68168,     0.68268,     0.68368,     0.68468,     0.68569,     0.68669,     0.68769,     0.68869,     0.68969,     0.69069,     0.69169,     0.69269,     0.69369,     0.69469,      0.6957,\n",
       "            0.6967,      0.6977,      0.6987,      0.6997,      0.7007,      0.7017,      0.7027,      0.7037,      0.7047,     0.70571,     0.70671,     0.70771,     0.70871,     0.70971,     0.71071,     0.71171,     0.71271,     0.71371,     0.71471,     0.71572,     0.71672,     0.71772,     0.71872,     0.71972,\n",
       "           0.72072,     0.72172,     0.72272,     0.72372,     0.72472,     0.72573,     0.72673,     0.72773,     0.72873,     0.72973,     0.73073,     0.73173,     0.73273,     0.73373,     0.73473,     0.73574,     0.73674,     0.73774,     0.73874,     0.73974,     0.74074,     0.74174,     0.74274,     0.74374,\n",
       "           0.74474,     0.74575,     0.74675,     0.74775,     0.74875,     0.74975,     0.75075,     0.75175,     0.75275,     0.75375,     0.75475,     0.75576,     0.75676,     0.75776,     0.75876,     0.75976,     0.76076,     0.76176,     0.76276,     0.76376,     0.76476,     0.76577,     0.76677,     0.76777,\n",
       "           0.76877,     0.76977,     0.77077,     0.77177,     0.77277,     0.77377,     0.77477,     0.77578,     0.77678,     0.77778,     0.77878,     0.77978,     0.78078,     0.78178,     0.78278,     0.78378,     0.78478,     0.78579,     0.78679,     0.78779,     0.78879,     0.78979,     0.79079,     0.79179,\n",
       "           0.79279,     0.79379,     0.79479,      0.7958,      0.7968,      0.7978,      0.7988,      0.7998,      0.8008,      0.8018,      0.8028,      0.8038,      0.8048,     0.80581,     0.80681,     0.80781,     0.80881,     0.80981,     0.81081,     0.81181,     0.81281,     0.81381,     0.81481,     0.81582,\n",
       "           0.81682,     0.81782,     0.81882,     0.81982,     0.82082,     0.82182,     0.82282,     0.82382,     0.82482,     0.82583,     0.82683,     0.82783,     0.82883,     0.82983,     0.83083,     0.83183,     0.83283,     0.83383,     0.83483,     0.83584,     0.83684,     0.83784,     0.83884,     0.83984,\n",
       "           0.84084,     0.84184,     0.84284,     0.84384,     0.84484,     0.84585,     0.84685,     0.84785,     0.84885,     0.84985,     0.85085,     0.85185,     0.85285,     0.85385,     0.85485,     0.85586,     0.85686,     0.85786,     0.85886,     0.85986,     0.86086,     0.86186,     0.86286,     0.86386,\n",
       "           0.86486,     0.86587,     0.86687,     0.86787,     0.86887,     0.86987,     0.87087,     0.87187,     0.87287,     0.87387,     0.87487,     0.87588,     0.87688,     0.87788,     0.87888,     0.87988,     0.88088,     0.88188,     0.88288,     0.88388,     0.88488,     0.88589,     0.88689,     0.88789,\n",
       "           0.88889,     0.88989,     0.89089,     0.89189,     0.89289,     0.89389,     0.89489,      0.8959,      0.8969,      0.8979,      0.8989,      0.8999,      0.9009,      0.9019,      0.9029,      0.9039,      0.9049,     0.90591,     0.90691,     0.90791,     0.90891,     0.90991,     0.91091,     0.91191,\n",
       "           0.91291,     0.91391,     0.91491,     0.91592,     0.91692,     0.91792,     0.91892,     0.91992,     0.92092,     0.92192,     0.92292,     0.92392,     0.92492,     0.92593,     0.92693,     0.92793,     0.92893,     0.92993,     0.93093,     0.93193,     0.93293,     0.93393,     0.93493,     0.93594,\n",
       "           0.93694,     0.93794,     0.93894,     0.93994,     0.94094,     0.94194,     0.94294,     0.94394,     0.94494,     0.94595,     0.94695,     0.94795,     0.94895,     0.94995,     0.95095,     0.95195,     0.95295,     0.95395,     0.95495,     0.95596,     0.95696,     0.95796,     0.95896,     0.95996,\n",
       "           0.96096,     0.96196,     0.96296,     0.96396,     0.96496,     0.96597,     0.96697,     0.96797,     0.96897,     0.96997,     0.97097,     0.97197,     0.97297,     0.97397,     0.97497,     0.97598,     0.97698,     0.97798,     0.97898,     0.97998,     0.98098,     0.98198,     0.98298,     0.98398,\n",
       "           0.98498,     0.98599,     0.98699,     0.98799,     0.98899,     0.98999,     0.99099,     0.99199,     0.99299,     0.99399,     0.99499,       0.996,       0.997,       0.998,       0.999,           1]), array([[          1,           1,           1,           1,           1,           1,           1,           1,           1,           1,           1,           1,           1,           1,           1,           1,           1,           1,           1,           1,           1,           1,           1,\n",
       "                  1,           1,           1,           1,           1,           1,           1,           1,           1,           1,           1,           1,           1,           1,           1,           1,           1,           1,           1,           1,           1,           1,           1,\n",
       "                  1,           1,           1,           1,           1,           1,           1,           1,           1,           1,           1,           1,           1,           1,           1,           1,           1,           1,           1,           1,           1,           1,           1,\n",
       "                  1,           1,           1,           1,           1,           1,           1,           1,           1,           1,           1,           1,           1,           1,           1,           1,           1,           1,           1,           1,           1,           1,           1,\n",
       "                  1,           1,           1,           1,           1,           1,           1,           1,           1,           1,           1,           1,           1,           1,           1,           1,           1,           1,           1,           1,           1,           1,           1,\n",
       "                  1,           1,           1,           1,           1,           1,           1,           1,           1,           1,           1,           1,           1,           1,           1,           1,           1,           1,           1,           1,           1,           1,           1,\n",
       "                  1,           1,           1,           1,           1,           1,           1,           1,           1,           1,           1,           1,           1,           1,           1,           1,           1,           1,           1,           1,           1,           1,           1,\n",
       "                  1,           1,           1,           1,           1,           1,           1,           1,           1,           1,           1,           1,           1,           1,           1,           1,           1,           1,           1,           1,           1,           1,           1,\n",
       "                  1,           1,           1,           1,           1,           1,           1,           1,           1,           1,           1,           1,           1,       0.875,       0.875,       0.875,       0.875,       0.875,       0.875,       0.875,       0.875,       0.875,       0.875,\n",
       "              0.875,       0.875,       0.875,       0.875,       0.875,       0.875,       0.875,       0.875,       0.875,       0.875,       0.875,       0.875,       0.875,       0.875,       0.875,       0.875,       0.875,       0.875,       0.875,       0.875,       0.875,       0.875,       0.875,\n",
       "            0.84615,     0.84615,     0.84615,     0.84615,     0.84615,     0.84615,     0.84615,     0.84615,     0.84615,     0.84615,     0.84615,     0.84615,     0.84615,     0.84615,     0.84615,     0.84615,     0.84615,     0.84615,     0.84615,     0.84615,     0.84615,     0.84615,     0.84615,\n",
       "            0.84615,     0.84615,     0.84615,     0.84615,     0.84615,     0.84615,     0.84615,     0.84615,     0.84615,     0.84615,     0.84615,     0.84615,     0.84615,     0.84615,     0.84615,     0.84615,     0.84615,     0.84615,     0.84615,     0.84615,     0.84615,     0.84615,     0.84615,\n",
       "            0.84615,     0.84615,     0.84615,     0.84615,     0.84615,     0.84615,     0.84615,     0.84615,     0.84615,     0.84615,     0.84615,     0.84615,     0.84615,     0.84615,     0.84615,     0.84615,     0.84615,     0.84615,     0.84615,     0.84615,     0.84615,     0.84615,     0.84615,\n",
       "            0.84615,     0.84615,     0.84615,     0.84615,     0.84615,     0.84615,     0.84615,     0.84615,     0.84615,     0.84615,     0.84615,     0.84615,     0.84615,     0.84615,     0.84615,     0.84615,     0.84615,     0.84615,     0.84615,     0.84615,     0.84615,     0.84615,     0.84615,\n",
       "            0.84615,     0.84615,     0.84615,     0.84615,     0.84615,     0.84615,     0.84615,     0.84615,     0.84615,     0.84615,     0.84615,     0.84615,     0.84615,     0.84615,     0.84615,     0.84615,     0.84615,     0.84615,     0.84615,     0.84615,     0.84615,     0.84615,     0.84615,\n",
       "            0.84615,     0.84615,     0.84615,     0.84615,     0.84615,     0.84615,     0.84615,     0.84615,     0.84615,     0.84615,     0.84615,     0.84615,     0.84615,     0.84615,     0.84615,     0.84615,     0.83333,     0.83333,     0.83333,     0.83333,     0.83333,     0.83333,     0.83333,\n",
       "            0.83333,     0.83333,     0.83333,     0.83333,     0.83333,     0.83333,     0.83333,     0.83333,     0.83333,     0.83333,     0.83333,     0.83333,     0.83333,     0.83333,     0.83333,     0.83333,     0.83333,     0.83333,     0.83333,     0.83333,     0.83333,     0.83333,     0.83333,\n",
       "            0.83333,     0.83333,     0.83333,     0.83333,     0.83333,     0.83333,     0.83333,     0.83333,     0.83333,     0.83333,     0.83333,     0.83333,     0.83333,     0.83333,     0.83333,     0.83333,     0.83333,     0.83333,     0.83333,         0.8,         0.8,         0.8,         0.8,\n",
       "                0.8,         0.8,         0.8,         0.8,         0.8,         0.8,         0.8,         0.8,         0.8,         0.8,         0.8,         0.8,         0.8,         0.8,         0.8,         0.8,         0.8,         0.8,         0.8,         0.8,         0.8,         0.8,         0.8,\n",
       "                0.8,         0.8,         0.8,         0.8,         0.8,         0.8,         0.8,         0.8,         0.8,         0.8,         0.8,         0.8,         0.8,         0.8,         0.8,         0.8,         0.8,         0.8,         0.8,         0.8,         0.8,         0.8,     0.76316,\n",
       "            0.76316,     0.76316,     0.76316,     0.76316,     0.76316,     0.76316,     0.76316,     0.76316,     0.76316,     0.76316,     0.76316,     0.76316,     0.76316,     0.76316,     0.76316,     0.73913,     0.73913,     0.73913,     0.73913,     0.73913,     0.73913,     0.73913,     0.73913,\n",
       "            0.73913,     0.73913,     0.73913,     0.73913,     0.73913,     0.73913,     0.73913,     0.73913,     0.73913,     0.73913,     0.73913,     0.73913,     0.73913,     0.73913,     0.73913,     0.73913,     0.73913,     0.73913,     0.73913,     0.73913,     0.73913,     0.73913,     0.73913,\n",
       "            0.73913,     0.73913,     0.73913,     0.73913,     0.73913,     0.73913,     0.73913,     0.73913,     0.73913,     0.73913,     0.73913,     0.73913,     0.73913,     0.73913,     0.73913,     0.73913,     0.73913,     0.73913,     0.73913,     0.73913,     0.73913,     0.73913,     0.73913,\n",
       "            0.73913,     0.73913,     0.73913,     0.73913,     0.73913,     0.73913,     0.73913,     0.73913,     0.73913,     0.73913,     0.73913,     0.73913,     0.73913,     0.73913,     0.73913,     0.73913,     0.73913,     0.73913,     0.73913,     0.73913,     0.73913,     0.73913,     0.73913,\n",
       "            0.73913,     0.73913,     0.73913,     0.73913,     0.73913,         0.7,         0.7,         0.7,         0.7,         0.7,         0.7,         0.7,         0.7,         0.7,         0.7,         0.7,         0.7,         0.7,         0.7,         0.7,         0.7,         0.7,     0.59016,\n",
       "            0.59016,     0.59016,     0.59016,     0.59016,     0.59016,     0.59016,     0.59016,     0.59016,     0.59016,     0.59016,     0.59016,     0.59016,     0.59016,     0.59016,     0.59016,      0.5873,      0.5873,      0.5873,      0.5873,      0.5873,      0.5873,      0.5873,      0.5873,\n",
       "             0.5873,      0.5873,      0.5873,      0.5873,      0.5873,      0.5873,      0.5873,      0.5873,     0.55882,     0.55882,     0.55882,     0.55882,     0.55882,     0.55882,     0.55882,     0.55882,     0.55882,     0.55882,     0.55882,     0.55882,     0.55882,     0.55882,     0.55882,\n",
       "            0.55882,     0.55882,     0.51316,     0.51316,     0.51316,     0.51316,     0.51316,     0.51316,     0.51316,     0.51316,     0.51316,     0.51316,     0.51316,     0.51316,     0.51316,     0.51316,     0.51316,     0.51316,     0.47059,     0.47059,     0.47059,     0.47059,     0.47059,\n",
       "            0.47059,     0.47059,     0.47059,     0.47059,     0.47059,     0.47059,     0.47059,     0.47059,     0.47059,     0.47059,     0.47059,     0.47059,     0.42268,     0.42268,     0.42268,     0.42268,     0.42268,     0.42268,     0.42268,     0.42268,     0.42268,     0.42268,     0.42268,\n",
       "            0.42268,     0.42268,     0.42268,     0.42268,     0.42268,     0.34146,     0.34146,     0.34146,     0.34146,     0.34146,     0.34146,     0.34146,     0.34146,     0.34146,     0.34146,     0.34146,     0.34146,     0.34146,     0.34146,     0.34146,     0.34146,     0.33594,     0.33594,\n",
       "            0.33594,     0.33594,     0.33594,     0.33594,     0.33594,     0.33594,     0.33594,     0.33594,     0.33594,     0.33594,     0.33594,     0.33594,     0.33594,     0.33594,     0.33594,     0.31655,     0.31655,     0.31655,     0.31655,     0.31655,     0.31655,     0.31655,     0.31655,\n",
       "            0.31655,     0.31655,     0.31655,     0.31655,     0.31655,     0.31655,     0.31655,     0.31655,     0.22277,     0.22277,     0.22277,     0.22277,     0.22277,     0.22277,     0.22277,     0.22277,     0.22277,     0.22277,     0.22277,     0.22277,     0.22277,     0.22277,     0.22277,\n",
       "            0.22277,     0.17037,     0.17037,     0.17037,     0.17037,     0.17037,     0.17037,     0.17037,     0.17037,     0.17037,     0.17037,     0.17037,     0.17037,     0.17037,     0.17037,     0.17037,     0.17037,     0.17037,     0.13128,     0.13128,     0.13128,     0.13128,     0.13128,\n",
       "            0.13128,     0.13128,     0.13128,     0.13128,     0.13128,     0.13128,     0.13128,     0.13128,     0.13128,     0.13128,     0.13128,    0.086022,    0.086022,    0.086022,    0.086022,    0.086022,    0.086022,    0.086022,    0.086022,    0.086022,    0.086022,    0.086022,    0.086022,\n",
       "           0.086022,    0.086022,    0.086022,    0.086022,    0.086022,    0.076443,    0.076443,    0.076443,    0.076443,    0.076443,    0.076443,    0.076443,    0.076443,    0.076443,    0.076443,    0.076443,    0.076443,    0.076443,    0.076443,    0.076443,    0.076443,    0.038971,    0.038971,\n",
       "           0.038971,    0.038971,    0.038971,    0.038971,    0.038971,    0.038971,    0.038971,    0.038971,    0.038971,    0.038971,    0.038971,    0.038971,    0.038971,    0.038971,    0.011351,    0.011351,    0.011351,    0.011351,    0.011351,    0.011351,    0.011351,    0.011351,    0.011351,\n",
       "           0.011351,    0.011351,    0.011351,    0.011351,    0.011351,    0.011351,    0.011351,    0.011351,   0.0086407,   0.0086407,   0.0086407,   0.0086407,   0.0086407,   0.0086407,   0.0086407,   0.0086407,   0.0086407,   0.0086407,   0.0086407,   0.0086407,   0.0086407,   0.0086407,   0.0086407,\n",
       "          0.0086407,   0.0075617,   0.0075617,   0.0075617,   0.0075617,   0.0075617,   0.0075617,   0.0075617,   0.0075617,   0.0075617,   0.0075617,   0.0075617,   0.0075617,   0.0075617,   0.0075617,   0.0075617,   0.0075617,   0.0068984,   0.0068457,   0.0067931,   0.0067404,   0.0066877,   0.0066351,\n",
       "          0.0065824,   0.0065298,   0.0064771,   0.0064244,   0.0063718,   0.0063191,   0.0062665,   0.0062138,   0.0061612,   0.0061085,   0.0060558,   0.0060032,   0.0059505,   0.0058979,   0.0058452,   0.0057925,   0.0057399,   0.0056872,   0.0056346,   0.0055819,   0.0055292,   0.0054766,   0.0054239,\n",
       "          0.0053713,   0.0053186,   0.0052659,   0.0052133,   0.0051606,    0.005108,   0.0050553,   0.0050026,     0.00495,   0.0048973,   0.0048447,    0.004792,   0.0047393,   0.0046867,    0.004634,   0.0045814,   0.0045287,    0.004476,   0.0044234,   0.0043707,   0.0043181,   0.0042654,   0.0042128,\n",
       "          0.0041601,   0.0041074,   0.0040548,   0.0040021,   0.0039495,   0.0038968,   0.0038441,   0.0037915,   0.0037388,   0.0036862,   0.0036335,   0.0035808,   0.0035282,   0.0034755,   0.0034229,   0.0033702,   0.0033175,   0.0032649,   0.0032122,   0.0031596,   0.0031069,   0.0030542,   0.0030016,\n",
       "          0.0029489,   0.0028963,   0.0028436,   0.0027909,   0.0027383,   0.0026856,    0.002633,   0.0025803,   0.0025277,    0.002475,   0.0024223,   0.0023697,    0.002317,   0.0022644,   0.0022117,    0.002159,   0.0021064,   0.0020537,   0.0020011,   0.0019484,   0.0018957,   0.0018431,   0.0017904,\n",
       "          0.0017378,   0.0016851,   0.0016324,   0.0015798,   0.0015271,   0.0014745,   0.0014218,   0.0013691,   0.0013165,   0.0012638,   0.0012112,   0.0011585,   0.0011058,   0.0010532,   0.0010005,  0.00094787,  0.00089521,  0.00084255,  0.00078989,  0.00073723,  0.00068457,  0.00063191,  0.00057925,\n",
       "         0.00052659,  0.00047393,  0.00042128,  0.00036862,  0.00031596,   0.0002633,  0.00021064,  0.00015798,  0.00010532,  5.2659e-05,           0]]), 'Recall', 'Precision'], [array([          0,    0.001001,    0.002002,    0.003003,    0.004004,    0.005005,    0.006006,    0.007007,    0.008008,    0.009009,     0.01001,    0.011011,    0.012012,    0.013013,    0.014014,    0.015015,    0.016016,    0.017017,    0.018018,    0.019019,     0.02002,    0.021021,    0.022022,    0.023023,\n",
       "          0.024024,    0.025025,    0.026026,    0.027027,    0.028028,    0.029029,     0.03003,    0.031031,    0.032032,    0.033033,    0.034034,    0.035035,    0.036036,    0.037037,    0.038038,    0.039039,     0.04004,    0.041041,    0.042042,    0.043043,    0.044044,    0.045045,    0.046046,    0.047047,\n",
       "          0.048048,    0.049049,     0.05005,    0.051051,    0.052052,    0.053053,    0.054054,    0.055055,    0.056056,    0.057057,    0.058058,    0.059059,     0.06006,    0.061061,    0.062062,    0.063063,    0.064064,    0.065065,    0.066066,    0.067067,    0.068068,    0.069069,     0.07007,    0.071071,\n",
       "          0.072072,    0.073073,    0.074074,    0.075075,    0.076076,    0.077077,    0.078078,    0.079079,     0.08008,    0.081081,    0.082082,    0.083083,    0.084084,    0.085085,    0.086086,    0.087087,    0.088088,    0.089089,     0.09009,    0.091091,    0.092092,    0.093093,    0.094094,    0.095095,\n",
       "          0.096096,    0.097097,    0.098098,    0.099099,      0.1001,      0.1011,      0.1021,      0.1031,      0.1041,     0.10511,     0.10611,     0.10711,     0.10811,     0.10911,     0.11011,     0.11111,     0.11211,     0.11311,     0.11411,     0.11512,     0.11612,     0.11712,     0.11812,     0.11912,\n",
       "           0.12012,     0.12112,     0.12212,     0.12312,     0.12412,     0.12513,     0.12613,     0.12713,     0.12813,     0.12913,     0.13013,     0.13113,     0.13213,     0.13313,     0.13413,     0.13514,     0.13614,     0.13714,     0.13814,     0.13914,     0.14014,     0.14114,     0.14214,     0.14314,\n",
       "           0.14414,     0.14515,     0.14615,     0.14715,     0.14815,     0.14915,     0.15015,     0.15115,     0.15215,     0.15315,     0.15415,     0.15516,     0.15616,     0.15716,     0.15816,     0.15916,     0.16016,     0.16116,     0.16216,     0.16316,     0.16416,     0.16517,     0.16617,     0.16717,\n",
       "           0.16817,     0.16917,     0.17017,     0.17117,     0.17217,     0.17317,     0.17417,     0.17518,     0.17618,     0.17718,     0.17818,     0.17918,     0.18018,     0.18118,     0.18218,     0.18318,     0.18418,     0.18519,     0.18619,     0.18719,     0.18819,     0.18919,     0.19019,     0.19119,\n",
       "           0.19219,     0.19319,     0.19419,      0.1952,      0.1962,      0.1972,      0.1982,      0.1992,      0.2002,      0.2012,      0.2022,      0.2032,      0.2042,     0.20521,     0.20621,     0.20721,     0.20821,     0.20921,     0.21021,     0.21121,     0.21221,     0.21321,     0.21421,     0.21522,\n",
       "           0.21622,     0.21722,     0.21822,     0.21922,     0.22022,     0.22122,     0.22222,     0.22322,     0.22422,     0.22523,     0.22623,     0.22723,     0.22823,     0.22923,     0.23023,     0.23123,     0.23223,     0.23323,     0.23423,     0.23524,     0.23624,     0.23724,     0.23824,     0.23924,\n",
       "           0.24024,     0.24124,     0.24224,     0.24324,     0.24424,     0.24525,     0.24625,     0.24725,     0.24825,     0.24925,     0.25025,     0.25125,     0.25225,     0.25325,     0.25425,     0.25526,     0.25626,     0.25726,     0.25826,     0.25926,     0.26026,     0.26126,     0.26226,     0.26326,\n",
       "           0.26426,     0.26527,     0.26627,     0.26727,     0.26827,     0.26927,     0.27027,     0.27127,     0.27227,     0.27327,     0.27427,     0.27528,     0.27628,     0.27728,     0.27828,     0.27928,     0.28028,     0.28128,     0.28228,     0.28328,     0.28428,     0.28529,     0.28629,     0.28729,\n",
       "           0.28829,     0.28929,     0.29029,     0.29129,     0.29229,     0.29329,     0.29429,      0.2953,      0.2963,      0.2973,      0.2983,      0.2993,      0.3003,      0.3013,      0.3023,      0.3033,      0.3043,     0.30531,     0.30631,     0.30731,     0.30831,     0.30931,     0.31031,     0.31131,\n",
       "           0.31231,     0.31331,     0.31431,     0.31532,     0.31632,     0.31732,     0.31832,     0.31932,     0.32032,     0.32132,     0.32232,     0.32332,     0.32432,     0.32533,     0.32633,     0.32733,     0.32833,     0.32933,     0.33033,     0.33133,     0.33233,     0.33333,     0.33433,     0.33534,\n",
       "           0.33634,     0.33734,     0.33834,     0.33934,     0.34034,     0.34134,     0.34234,     0.34334,     0.34434,     0.34535,     0.34635,     0.34735,     0.34835,     0.34935,     0.35035,     0.35135,     0.35235,     0.35335,     0.35435,     0.35536,     0.35636,     0.35736,     0.35836,     0.35936,\n",
       "           0.36036,     0.36136,     0.36236,     0.36336,     0.36436,     0.36537,     0.36637,     0.36737,     0.36837,     0.36937,     0.37037,     0.37137,     0.37237,     0.37337,     0.37437,     0.37538,     0.37638,     0.37738,     0.37838,     0.37938,     0.38038,     0.38138,     0.38238,     0.38338,\n",
       "           0.38438,     0.38539,     0.38639,     0.38739,     0.38839,     0.38939,     0.39039,     0.39139,     0.39239,     0.39339,     0.39439,      0.3954,      0.3964,      0.3974,      0.3984,      0.3994,      0.4004,      0.4014,      0.4024,      0.4034,      0.4044,     0.40541,     0.40641,     0.40741,\n",
       "           0.40841,     0.40941,     0.41041,     0.41141,     0.41241,     0.41341,     0.41441,     0.41542,     0.41642,     0.41742,     0.41842,     0.41942,     0.42042,     0.42142,     0.42242,     0.42342,     0.42442,     0.42543,     0.42643,     0.42743,     0.42843,     0.42943,     0.43043,     0.43143,\n",
       "           0.43243,     0.43343,     0.43443,     0.43544,     0.43644,     0.43744,     0.43844,     0.43944,     0.44044,     0.44144,     0.44244,     0.44344,     0.44444,     0.44545,     0.44645,     0.44745,     0.44845,     0.44945,     0.45045,     0.45145,     0.45245,     0.45345,     0.45445,     0.45546,\n",
       "           0.45646,     0.45746,     0.45846,     0.45946,     0.46046,     0.46146,     0.46246,     0.46346,     0.46446,     0.46547,     0.46647,     0.46747,     0.46847,     0.46947,     0.47047,     0.47147,     0.47247,     0.47347,     0.47447,     0.47548,     0.47648,     0.47748,     0.47848,     0.47948,\n",
       "           0.48048,     0.48148,     0.48248,     0.48348,     0.48448,     0.48549,     0.48649,     0.48749,     0.48849,     0.48949,     0.49049,     0.49149,     0.49249,     0.49349,     0.49449,      0.4955,      0.4965,      0.4975,      0.4985,      0.4995,      0.5005,      0.5015,      0.5025,      0.5035,\n",
       "            0.5045,     0.50551,     0.50651,     0.50751,     0.50851,     0.50951,     0.51051,     0.51151,     0.51251,     0.51351,     0.51451,     0.51552,     0.51652,     0.51752,     0.51852,     0.51952,     0.52052,     0.52152,     0.52252,     0.52352,     0.52452,     0.52553,     0.52653,     0.52753,\n",
       "           0.52853,     0.52953,     0.53053,     0.53153,     0.53253,     0.53353,     0.53453,     0.53554,     0.53654,     0.53754,     0.53854,     0.53954,     0.54054,     0.54154,     0.54254,     0.54354,     0.54454,     0.54555,     0.54655,     0.54755,     0.54855,     0.54955,     0.55055,     0.55155,\n",
       "           0.55255,     0.55355,     0.55455,     0.55556,     0.55656,     0.55756,     0.55856,     0.55956,     0.56056,     0.56156,     0.56256,     0.56356,     0.56456,     0.56557,     0.56657,     0.56757,     0.56857,     0.56957,     0.57057,     0.57157,     0.57257,     0.57357,     0.57457,     0.57558,\n",
       "           0.57658,     0.57758,     0.57858,     0.57958,     0.58058,     0.58158,     0.58258,     0.58358,     0.58458,     0.58559,     0.58659,     0.58759,     0.58859,     0.58959,     0.59059,     0.59159,     0.59259,     0.59359,     0.59459,      0.5956,      0.5966,      0.5976,      0.5986,      0.5996,\n",
       "            0.6006,      0.6016,      0.6026,      0.6036,      0.6046,     0.60561,     0.60661,     0.60761,     0.60861,     0.60961,     0.61061,     0.61161,     0.61261,     0.61361,     0.61461,     0.61562,     0.61662,     0.61762,     0.61862,     0.61962,     0.62062,     0.62162,     0.62262,     0.62362,\n",
       "           0.62462,     0.62563,     0.62663,     0.62763,     0.62863,     0.62963,     0.63063,     0.63163,     0.63263,     0.63363,     0.63463,     0.63564,     0.63664,     0.63764,     0.63864,     0.63964,     0.64064,     0.64164,     0.64264,     0.64364,     0.64464,     0.64565,     0.64665,     0.64765,\n",
       "           0.64865,     0.64965,     0.65065,     0.65165,     0.65265,     0.65365,     0.65465,     0.65566,     0.65666,     0.65766,     0.65866,     0.65966,     0.66066,     0.66166,     0.66266,     0.66366,     0.66466,     0.66567,     0.66667,     0.66767,     0.66867,     0.66967,     0.67067,     0.67167,\n",
       "           0.67267,     0.67367,     0.67467,     0.67568,     0.67668,     0.67768,     0.67868,     0.67968,     0.68068,     0.68168,     0.68268,     0.68368,     0.68468,     0.68569,     0.68669,     0.68769,     0.68869,     0.68969,     0.69069,     0.69169,     0.69269,     0.69369,     0.69469,      0.6957,\n",
       "            0.6967,      0.6977,      0.6987,      0.6997,      0.7007,      0.7017,      0.7027,      0.7037,      0.7047,     0.70571,     0.70671,     0.70771,     0.70871,     0.70971,     0.71071,     0.71171,     0.71271,     0.71371,     0.71471,     0.71572,     0.71672,     0.71772,     0.71872,     0.71972,\n",
       "           0.72072,     0.72172,     0.72272,     0.72372,     0.72472,     0.72573,     0.72673,     0.72773,     0.72873,     0.72973,     0.73073,     0.73173,     0.73273,     0.73373,     0.73473,     0.73574,     0.73674,     0.73774,     0.73874,     0.73974,     0.74074,     0.74174,     0.74274,     0.74374,\n",
       "           0.74474,     0.74575,     0.74675,     0.74775,     0.74875,     0.74975,     0.75075,     0.75175,     0.75275,     0.75375,     0.75475,     0.75576,     0.75676,     0.75776,     0.75876,     0.75976,     0.76076,     0.76176,     0.76276,     0.76376,     0.76476,     0.76577,     0.76677,     0.76777,\n",
       "           0.76877,     0.76977,     0.77077,     0.77177,     0.77277,     0.77377,     0.77477,     0.77578,     0.77678,     0.77778,     0.77878,     0.77978,     0.78078,     0.78178,     0.78278,     0.78378,     0.78478,     0.78579,     0.78679,     0.78779,     0.78879,     0.78979,     0.79079,     0.79179,\n",
       "           0.79279,     0.79379,     0.79479,      0.7958,      0.7968,      0.7978,      0.7988,      0.7998,      0.8008,      0.8018,      0.8028,      0.8038,      0.8048,     0.80581,     0.80681,     0.80781,     0.80881,     0.80981,     0.81081,     0.81181,     0.81281,     0.81381,     0.81481,     0.81582,\n",
       "           0.81682,     0.81782,     0.81882,     0.81982,     0.82082,     0.82182,     0.82282,     0.82382,     0.82482,     0.82583,     0.82683,     0.82783,     0.82883,     0.82983,     0.83083,     0.83183,     0.83283,     0.83383,     0.83483,     0.83584,     0.83684,     0.83784,     0.83884,     0.83984,\n",
       "           0.84084,     0.84184,     0.84284,     0.84384,     0.84484,     0.84585,     0.84685,     0.84785,     0.84885,     0.84985,     0.85085,     0.85185,     0.85285,     0.85385,     0.85485,     0.85586,     0.85686,     0.85786,     0.85886,     0.85986,     0.86086,     0.86186,     0.86286,     0.86386,\n",
       "           0.86486,     0.86587,     0.86687,     0.86787,     0.86887,     0.86987,     0.87087,     0.87187,     0.87287,     0.87387,     0.87487,     0.87588,     0.87688,     0.87788,     0.87888,     0.87988,     0.88088,     0.88188,     0.88288,     0.88388,     0.88488,     0.88589,     0.88689,     0.88789,\n",
       "           0.88889,     0.88989,     0.89089,     0.89189,     0.89289,     0.89389,     0.89489,      0.8959,      0.8969,      0.8979,      0.8989,      0.8999,      0.9009,      0.9019,      0.9029,      0.9039,      0.9049,     0.90591,     0.90691,     0.90791,     0.90891,     0.90991,     0.91091,     0.91191,\n",
       "           0.91291,     0.91391,     0.91491,     0.91592,     0.91692,     0.91792,     0.91892,     0.91992,     0.92092,     0.92192,     0.92292,     0.92392,     0.92492,     0.92593,     0.92693,     0.92793,     0.92893,     0.92993,     0.93093,     0.93193,     0.93293,     0.93393,     0.93493,     0.93594,\n",
       "           0.93694,     0.93794,     0.93894,     0.93994,     0.94094,     0.94194,     0.94294,     0.94394,     0.94494,     0.94595,     0.94695,     0.94795,     0.94895,     0.94995,     0.95095,     0.95195,     0.95295,     0.95395,     0.95495,     0.95596,     0.95696,     0.95796,     0.95896,     0.95996,\n",
       "           0.96096,     0.96196,     0.96296,     0.96396,     0.96496,     0.96597,     0.96697,     0.96797,     0.96897,     0.96997,     0.97097,     0.97197,     0.97297,     0.97397,     0.97497,     0.97598,     0.97698,     0.97798,     0.97898,     0.97998,     0.98098,     0.98198,     0.98298,     0.98398,\n",
       "           0.98498,     0.98599,     0.98699,     0.98799,     0.98899,     0.98999,     0.99099,     0.99199,     0.99299,     0.99399,     0.99499,       0.996,       0.997,       0.998,       0.999,           1]), array([[    0.01369,     0.01369,    0.019119,    0.038638,    0.082139,     0.14206,      0.1801,      0.2173,     0.23906,     0.26614,     0.27635,     0.28637,     0.29285,     0.30144,     0.31379,     0.32334,     0.33232,     0.33937,     0.34037,     0.35235,     0.35955,     0.37032,     0.37719,\n",
       "            0.38501,     0.39228,     0.39864,     0.40509,        0.41,     0.41198,      0.4146,     0.42011,     0.42426,     0.42698,     0.42895,     0.43517,     0.43746,     0.43959,     0.43701,     0.44119,     0.44239,     0.44344,     0.44403,     0.44462,     0.44521,     0.44808,     0.44892,\n",
       "            0.44977,     0.45127,     0.45346,      0.4472,     0.44789,     0.44858,     0.44943,     0.45151,     0.45557,     0.45382,     0.44839,      0.4525,     0.45658,     0.46074,     0.46164,     0.46253,     0.46395,     0.46737,     0.46874,     0.46904,     0.46933,     0.46963,     0.46992,\n",
       "            0.47022,     0.47051,     0.47081,      0.4711,     0.47149,     0.47201,     0.47252,     0.47303,     0.47355,     0.47455,     0.47827,     0.48051,      0.4821,     0.48443,     0.48833,     0.48926,     0.49018,     0.49107,     0.49172,     0.49237,     0.49302,     0.49366,     0.49627,\n",
       "            0.49811,     0.49945,     0.50026,      0.5007,     0.50113,     0.50157,     0.50201,     0.50245,     0.50288,     0.50664,     0.50991,     0.51062,     0.51133,     0.51203,     0.51542,     0.51457,       0.512,     0.51439,     0.51615,     0.51974,     0.52032,     0.52089,     0.52147,\n",
       "            0.52204,     0.52261,     0.52359,      0.5249,     0.52621,      0.5285,     0.53045,     0.53186,     0.53327,     0.53388,     0.53446,     0.53504,     0.53561,     0.53619,     0.53676,      0.5389,     0.54092,      0.5419,     0.54287,     0.54384,     0.54458,     0.54517,     0.54576,\n",
       "            0.54635,     0.54693,     0.54752,     0.54731,     0.54497,     0.54262,     0.54027,     0.53794,     0.53912,      0.5403,     0.54147,     0.54233,     0.54313,     0.54393,     0.54472,     0.54555,     0.54682,     0.54808,     0.54934,     0.55086,     0.55238,     0.55399,      0.5557,\n",
       "            0.55785,     0.56144,     0.56239,     0.56334,      0.5643,      0.5657,     0.56832,     0.56701,     0.56571,      0.5644,      0.5631,     0.56179,     0.56048,     0.55917,     0.55972,     0.56093,     0.56214,     0.56376,     0.56622,     0.56956,     0.57296,     0.57578,     0.57622,\n",
       "            0.57665,     0.57709,     0.57752,     0.57796,     0.57839,     0.57883,     0.57926,     0.57969,     0.58012,     0.58074,     0.58138,     0.58201,     0.58264,     0.58327,      0.5839,     0.58453,     0.58565,     0.58685,     0.58805,     0.58844,     0.57941,     0.57844,     0.57882,\n",
       "            0.57919,     0.57956,     0.57993,      0.5803,     0.58067,     0.58104,     0.58141,     0.58177,     0.58214,     0.58251,     0.58376,     0.58576,     0.58745,     0.58812,     0.58879,     0.58945,     0.59012,     0.59078,     0.59144,     0.59235,     0.59466,     0.59634,     0.59085,\n",
       "            0.58537,     0.58606,     0.58676,     0.58745,     0.58814,     0.58883,     0.58952,      0.5893,     0.57958,     0.58287,     0.58484,     0.58659,     0.58899,     0.59374,     0.59448,     0.59523,     0.59597,     0.59671,     0.59745,     0.59819,     0.59947,     0.60084,      0.6022,\n",
       "            0.60346,     0.60359,     0.60373,     0.60386,     0.60399,     0.60412,     0.60426,     0.60439,     0.60452,     0.60466,     0.60479,     0.60492,     0.60505,     0.60519,     0.60532,     0.60545,     0.60558,     0.60572,     0.60585,     0.60598,     0.60611,     0.60624,     0.60638,\n",
       "            0.60651,     0.60664,     0.60677,      0.6069,     0.60703,     0.60717,      0.6073,     0.60743,     0.60756,     0.60769,     0.60782,     0.60795,     0.60808,     0.60821,     0.60835,     0.60848,     0.60861,     0.60917,     0.61064,      0.6121,     0.61355,     0.61419,     0.61442,\n",
       "            0.61465,     0.61488,     0.61512,     0.61535,     0.61558,     0.61581,     0.61604,     0.61627,      0.6165,     0.61673,     0.61696,     0.61719,     0.61742,     0.61765,     0.61787,      0.6181,     0.61833,     0.61856,     0.61879,     0.61902,     0.61924,     0.61951,     0.62501,\n",
       "            0.62539,     0.62576,     0.62614,     0.62651,     0.62689,     0.62726,     0.62763,     0.62801,     0.62838,     0.62875,     0.62912,     0.62949,     0.62986,     0.63023,      0.6306,     0.63012,     0.62955,     0.62899,     0.62842,     0.62786,     0.62729,     0.62672,     0.62616,\n",
       "            0.62559,     0.62503,     0.62446,     0.62389,     0.62332,     0.62276,     0.62219,     0.62162,     0.62105,     0.62048,     0.61991,     0.61934,     0.61877,      0.6182,     0.61856,     0.61895,     0.61934,     0.61973,     0.62012,     0.62051,      0.6209,     0.62128,     0.62167,\n",
       "            0.62206,     0.62244,     0.62283,     0.62321,     0.62359,     0.62413,     0.62499,     0.62584,     0.62668,     0.62753,     0.62837,     0.62921,     0.63097,     0.63366,     0.62248,     0.62197,     0.62145,     0.62093,     0.62041,     0.61989,     0.61936,     0.61884,     0.61832,\n",
       "             0.6178,     0.61728,     0.61676,     0.61624,     0.61571,     0.61519,     0.61467,     0.61415,     0.61362,      0.6131,     0.61258,     0.61205,     0.61153,       0.611,     0.61048,     0.60995,     0.60917,     0.60722,     0.60527,     0.60332,     0.60136,      0.5994,     0.59743,\n",
       "             0.5956,     0.59401,     0.59241,     0.59082,     0.58923,     0.58763,     0.58603,     0.58443,     0.58282,      0.5819,     0.58113,     0.58037,      0.5796,     0.57883,     0.57806,      0.5773,     0.57653,     0.57576,     0.57499,     0.57422,     0.57345,     0.57267,      0.5719,\n",
       "            0.57113,     0.57036,     0.56958,     0.56881,      0.5688,     0.56903,     0.56926,     0.56948,     0.56971,     0.56993,     0.57016,     0.57039,     0.57061,     0.57084,     0.57106,     0.57129,     0.57151,     0.57173,     0.57196,     0.57218,      0.5724,     0.57263,     0.57285,\n",
       "            0.57307,     0.57329,     0.57352,     0.57374,     0.57396,     0.57418,     0.57618,     0.57911,     0.58018,     0.58043,     0.58068,     0.58094,     0.58119,     0.58144,     0.58169,     0.58195,      0.5822,     0.58245,      0.5827,     0.58295,      0.5832,     0.58345,      0.5837,\n",
       "            0.58395,      0.5842,     0.58444,     0.58469,     0.58494,     0.58519,     0.58543,     0.58568,     0.58545,     0.58398,      0.5825,     0.58103,     0.57955,     0.57807,     0.57659,     0.57511,     0.57362,     0.57214,     0.57157,     0.57185,     0.57213,     0.57241,     0.57269,\n",
       "            0.57296,     0.57324,     0.57352,     0.57379,     0.57407,     0.57434,     0.57462,     0.57489,     0.57516,     0.57544,     0.57571,     0.57598,     0.57625,     0.57652,      0.5768,     0.57707,     0.57738,     0.57843,     0.57946,     0.58049,     0.58151,     0.58253,     0.56788,\n",
       "             0.5653,      0.5627,      0.5601,      0.5575,     0.55488,     0.55263,     0.55105,     0.54946,     0.54787,     0.54628,     0.54468,     0.54309,     0.54149,     0.53988,     0.53828,     0.53784,     0.53819,     0.53854,     0.53889,     0.53923,     0.53958,     0.53992,     0.54027,\n",
       "            0.54061,     0.54095,     0.54129,     0.54163,     0.54197,     0.54231,     0.54265,     0.54298,     0.54332,     0.54457,     0.54662,     0.54865,     0.54453,     0.53626,     0.52971,     0.52409,     0.51844,     0.51438,     0.51094,     0.50749,     0.50402,     0.50055,     0.50024,\n",
       "            0.50052,      0.5008,     0.50108,     0.50135,     0.50163,     0.50191,     0.50218,     0.50246,     0.50273,     0.50301,     0.50328,     0.50355,     0.50383,      0.5041,     0.50437,     0.50464,     0.50491,     0.50518,     0.50544,     0.50571,     0.50457,     0.50321,     0.50185,\n",
       "            0.50048,     0.49912,     0.49775,     0.49638,     0.49501,     0.49363,     0.49226,     0.49088,      0.4895,     0.48725,     0.48121,     0.47512,     0.46939,     0.46475,     0.46009,     0.45541,     0.45208,     0.45124,      0.4504,     0.44955,     0.44871,     0.44786,     0.44702,\n",
       "            0.44617,     0.44532,     0.44448,     0.44363,     0.44278,     0.44193,     0.44108,     0.44022,     0.43937,     0.43852,     0.43767,     0.43681,     0.43596,      0.4351,     0.43424,     0.42847,     0.41539,     0.41346,     0.41222,     0.41097,     0.40972,     0.40848,     0.40723,\n",
       "            0.40597,     0.40472,     0.40347,     0.40221,     0.40095,     0.39969,     0.39843,     0.39717,     0.39591,     0.39528,     0.39593,     0.39658,     0.39722,     0.39785,     0.39848,      0.3991,     0.39971,     0.37857,     0.37635,     0.37412,     0.37189,     0.36965,     0.36741,\n",
       "            0.36516,     0.36291,     0.36065,     0.35908,     0.35948,     0.35987,     0.36026,     0.36065,     0.36104,     0.36142,      0.3618,     0.36218,     0.36255,     0.36293,     0.36329,     0.36356,     0.36244,     0.36132,      0.3602,     0.35907,     0.35795,     0.35682,      0.3557,\n",
       "            0.35457,     0.35344,      0.3523,     0.35117,     0.35004,      0.3489,     0.34776,     0.34662,     0.34549,     0.34434,      0.3432,     0.34208,     0.34147,     0.34087,     0.34026,     0.33965,     0.33905,     0.33844,     0.33783,     0.33722,     0.33661,       0.336,      0.3354,\n",
       "            0.33479,     0.33417,     0.33356,     0.33295,     0.33234,     0.33173,     0.33112,     0.33051,     0.32989,     0.32928,     0.32867,     0.32805,     0.32744,     0.32682,     0.32621,     0.32559,     0.32498,     0.32436,     0.32374,     0.32313,     0.32251,     0.32189,     0.32127,\n",
       "            0.32065,     0.32003,     0.32285,     0.32479,     0.32574,     0.32666,     0.32755,     0.32843,     0.32403,     0.31613,     0.30815,      0.3047,     0.30342,     0.30215,     0.30087,      0.2996,     0.29832,     0.29704,     0.29575,     0.29447,     0.29318,     0.29189,      0.2906,\n",
       "            0.28931,     0.28801,     0.28671,     0.28542,     0.28411,     0.28281,     0.28128,     0.27835,     0.27542,     0.27248,     0.26952,     0.26656,     0.26358,     0.26059,      0.2576,     0.25405,     0.25038,      0.2467,       0.243,     0.23929,     0.23556,     0.20586,     0.20484,\n",
       "            0.20382,      0.2028,     0.20177,     0.20075,     0.19972,     0.19869,     0.19766,     0.19663,      0.1956,     0.19457,     0.19353,      0.1925,     0.19146,     0.19042,     0.18938,     0.18834,      0.1873,     0.18626,     0.18522,     0.18417,     0.18313,     0.18208,     0.18103,\n",
       "            0.17998,     0.17725,     0.16602,     0.15464,     0.15035,     0.14876,     0.14716,     0.14555,     0.14395,     0.14234,     0.14072,     0.13911,     0.13749,     0.13587,     0.13425,     0.13262,     0.13099,     0.12936,     0.12772,     0.12609,     0.12445,     0.12242,     0.11846,\n",
       "            0.11449,      0.1105,     0.10649,     0.10246,    0.098421,    0.094362,    0.092177,    0.090321,    0.088463,      0.0866,    0.084734,    0.082864,    0.080991,    0.079114,    0.077233,    0.075349,    0.073461,    0.071569,    0.069674,    0.067774,    0.065871,    0.063965,    0.062907,\n",
       "           0.062128,    0.061348,    0.060568,    0.059788,    0.059007,    0.058225,    0.057442,    0.056659,    0.055875,    0.055091,    0.054306,     0.05352,    0.052734,    0.051947,    0.051159,    0.050371,    0.049582,    0.048793,    0.048003,    0.047212,     0.04642,    0.045628,    0.044836,\n",
       "           0.044042,    0.043248,    0.042454,    0.041658,    0.040862,    0.040066,    0.039269,    0.038471,    0.037672,    0.036873,    0.036073,    0.035273,    0.034472,     0.03367,    0.032867,           0,           0,           0,           0,           0,           0,           0,           0,\n",
       "                  0,           0,           0,           0,           0,           0,           0,           0,           0,           0,           0,           0,           0,           0,           0,           0,           0,           0,           0,           0,           0,           0,           0,\n",
       "                  0,           0,           0,           0,           0,           0,           0,           0,           0,           0,           0,           0,           0,           0,           0,           0,           0,           0,           0,           0,           0,           0,           0,\n",
       "                  0,           0,           0,           0,           0,           0,           0,           0,           0,           0,           0,           0,           0,           0,           0,           0,           0,           0,           0,           0,           0,           0,           0,\n",
       "                  0,           0,           0,           0,           0,           0,           0,           0,           0,           0,           0,           0,           0,           0,           0,           0,           0,           0,           0,           0,           0,           0,           0,\n",
       "                  0,           0,           0,           0,           0,           0,           0,           0,           0,           0,           0]]), 'Confidence', 'F1'], [array([          0,    0.001001,    0.002002,    0.003003,    0.004004,    0.005005,    0.006006,    0.007007,    0.008008,    0.009009,     0.01001,    0.011011,    0.012012,    0.013013,    0.014014,    0.015015,    0.016016,    0.017017,    0.018018,    0.019019,     0.02002,    0.021021,    0.022022,    0.023023,\n",
       "          0.024024,    0.025025,    0.026026,    0.027027,    0.028028,    0.029029,     0.03003,    0.031031,    0.032032,    0.033033,    0.034034,    0.035035,    0.036036,    0.037037,    0.038038,    0.039039,     0.04004,    0.041041,    0.042042,    0.043043,    0.044044,    0.045045,    0.046046,    0.047047,\n",
       "          0.048048,    0.049049,     0.05005,    0.051051,    0.052052,    0.053053,    0.054054,    0.055055,    0.056056,    0.057057,    0.058058,    0.059059,     0.06006,    0.061061,    0.062062,    0.063063,    0.064064,    0.065065,    0.066066,    0.067067,    0.068068,    0.069069,     0.07007,    0.071071,\n",
       "          0.072072,    0.073073,    0.074074,    0.075075,    0.076076,    0.077077,    0.078078,    0.079079,     0.08008,    0.081081,    0.082082,    0.083083,    0.084084,    0.085085,    0.086086,    0.087087,    0.088088,    0.089089,     0.09009,    0.091091,    0.092092,    0.093093,    0.094094,    0.095095,\n",
       "          0.096096,    0.097097,    0.098098,    0.099099,      0.1001,      0.1011,      0.1021,      0.1031,      0.1041,     0.10511,     0.10611,     0.10711,     0.10811,     0.10911,     0.11011,     0.11111,     0.11211,     0.11311,     0.11411,     0.11512,     0.11612,     0.11712,     0.11812,     0.11912,\n",
       "           0.12012,     0.12112,     0.12212,     0.12312,     0.12412,     0.12513,     0.12613,     0.12713,     0.12813,     0.12913,     0.13013,     0.13113,     0.13213,     0.13313,     0.13413,     0.13514,     0.13614,     0.13714,     0.13814,     0.13914,     0.14014,     0.14114,     0.14214,     0.14314,\n",
       "           0.14414,     0.14515,     0.14615,     0.14715,     0.14815,     0.14915,     0.15015,     0.15115,     0.15215,     0.15315,     0.15415,     0.15516,     0.15616,     0.15716,     0.15816,     0.15916,     0.16016,     0.16116,     0.16216,     0.16316,     0.16416,     0.16517,     0.16617,     0.16717,\n",
       "           0.16817,     0.16917,     0.17017,     0.17117,     0.17217,     0.17317,     0.17417,     0.17518,     0.17618,     0.17718,     0.17818,     0.17918,     0.18018,     0.18118,     0.18218,     0.18318,     0.18418,     0.18519,     0.18619,     0.18719,     0.18819,     0.18919,     0.19019,     0.19119,\n",
       "           0.19219,     0.19319,     0.19419,      0.1952,      0.1962,      0.1972,      0.1982,      0.1992,      0.2002,      0.2012,      0.2022,      0.2032,      0.2042,     0.20521,     0.20621,     0.20721,     0.20821,     0.20921,     0.21021,     0.21121,     0.21221,     0.21321,     0.21421,     0.21522,\n",
       "           0.21622,     0.21722,     0.21822,     0.21922,     0.22022,     0.22122,     0.22222,     0.22322,     0.22422,     0.22523,     0.22623,     0.22723,     0.22823,     0.22923,     0.23023,     0.23123,     0.23223,     0.23323,     0.23423,     0.23524,     0.23624,     0.23724,     0.23824,     0.23924,\n",
       "           0.24024,     0.24124,     0.24224,     0.24324,     0.24424,     0.24525,     0.24625,     0.24725,     0.24825,     0.24925,     0.25025,     0.25125,     0.25225,     0.25325,     0.25425,     0.25526,     0.25626,     0.25726,     0.25826,     0.25926,     0.26026,     0.26126,     0.26226,     0.26326,\n",
       "           0.26426,     0.26527,     0.26627,     0.26727,     0.26827,     0.26927,     0.27027,     0.27127,     0.27227,     0.27327,     0.27427,     0.27528,     0.27628,     0.27728,     0.27828,     0.27928,     0.28028,     0.28128,     0.28228,     0.28328,     0.28428,     0.28529,     0.28629,     0.28729,\n",
       "           0.28829,     0.28929,     0.29029,     0.29129,     0.29229,     0.29329,     0.29429,      0.2953,      0.2963,      0.2973,      0.2983,      0.2993,      0.3003,      0.3013,      0.3023,      0.3033,      0.3043,     0.30531,     0.30631,     0.30731,     0.30831,     0.30931,     0.31031,     0.31131,\n",
       "           0.31231,     0.31331,     0.31431,     0.31532,     0.31632,     0.31732,     0.31832,     0.31932,     0.32032,     0.32132,     0.32232,     0.32332,     0.32432,     0.32533,     0.32633,     0.32733,     0.32833,     0.32933,     0.33033,     0.33133,     0.33233,     0.33333,     0.33433,     0.33534,\n",
       "           0.33634,     0.33734,     0.33834,     0.33934,     0.34034,     0.34134,     0.34234,     0.34334,     0.34434,     0.34535,     0.34635,     0.34735,     0.34835,     0.34935,     0.35035,     0.35135,     0.35235,     0.35335,     0.35435,     0.35536,     0.35636,     0.35736,     0.35836,     0.35936,\n",
       "           0.36036,     0.36136,     0.36236,     0.36336,     0.36436,     0.36537,     0.36637,     0.36737,     0.36837,     0.36937,     0.37037,     0.37137,     0.37237,     0.37337,     0.37437,     0.37538,     0.37638,     0.37738,     0.37838,     0.37938,     0.38038,     0.38138,     0.38238,     0.38338,\n",
       "           0.38438,     0.38539,     0.38639,     0.38739,     0.38839,     0.38939,     0.39039,     0.39139,     0.39239,     0.39339,     0.39439,      0.3954,      0.3964,      0.3974,      0.3984,      0.3994,      0.4004,      0.4014,      0.4024,      0.4034,      0.4044,     0.40541,     0.40641,     0.40741,\n",
       "           0.40841,     0.40941,     0.41041,     0.41141,     0.41241,     0.41341,     0.41441,     0.41542,     0.41642,     0.41742,     0.41842,     0.41942,     0.42042,     0.42142,     0.42242,     0.42342,     0.42442,     0.42543,     0.42643,     0.42743,     0.42843,     0.42943,     0.43043,     0.43143,\n",
       "           0.43243,     0.43343,     0.43443,     0.43544,     0.43644,     0.43744,     0.43844,     0.43944,     0.44044,     0.44144,     0.44244,     0.44344,     0.44444,     0.44545,     0.44645,     0.44745,     0.44845,     0.44945,     0.45045,     0.45145,     0.45245,     0.45345,     0.45445,     0.45546,\n",
       "           0.45646,     0.45746,     0.45846,     0.45946,     0.46046,     0.46146,     0.46246,     0.46346,     0.46446,     0.46547,     0.46647,     0.46747,     0.46847,     0.46947,     0.47047,     0.47147,     0.47247,     0.47347,     0.47447,     0.47548,     0.47648,     0.47748,     0.47848,     0.47948,\n",
       "           0.48048,     0.48148,     0.48248,     0.48348,     0.48448,     0.48549,     0.48649,     0.48749,     0.48849,     0.48949,     0.49049,     0.49149,     0.49249,     0.49349,     0.49449,      0.4955,      0.4965,      0.4975,      0.4985,      0.4995,      0.5005,      0.5015,      0.5025,      0.5035,\n",
       "            0.5045,     0.50551,     0.50651,     0.50751,     0.50851,     0.50951,     0.51051,     0.51151,     0.51251,     0.51351,     0.51451,     0.51552,     0.51652,     0.51752,     0.51852,     0.51952,     0.52052,     0.52152,     0.52252,     0.52352,     0.52452,     0.52553,     0.52653,     0.52753,\n",
       "           0.52853,     0.52953,     0.53053,     0.53153,     0.53253,     0.53353,     0.53453,     0.53554,     0.53654,     0.53754,     0.53854,     0.53954,     0.54054,     0.54154,     0.54254,     0.54354,     0.54454,     0.54555,     0.54655,     0.54755,     0.54855,     0.54955,     0.55055,     0.55155,\n",
       "           0.55255,     0.55355,     0.55455,     0.55556,     0.55656,     0.55756,     0.55856,     0.55956,     0.56056,     0.56156,     0.56256,     0.56356,     0.56456,     0.56557,     0.56657,     0.56757,     0.56857,     0.56957,     0.57057,     0.57157,     0.57257,     0.57357,     0.57457,     0.57558,\n",
       "           0.57658,     0.57758,     0.57858,     0.57958,     0.58058,     0.58158,     0.58258,     0.58358,     0.58458,     0.58559,     0.58659,     0.58759,     0.58859,     0.58959,     0.59059,     0.59159,     0.59259,     0.59359,     0.59459,      0.5956,      0.5966,      0.5976,      0.5986,      0.5996,\n",
       "            0.6006,      0.6016,      0.6026,      0.6036,      0.6046,     0.60561,     0.60661,     0.60761,     0.60861,     0.60961,     0.61061,     0.61161,     0.61261,     0.61361,     0.61461,     0.61562,     0.61662,     0.61762,     0.61862,     0.61962,     0.62062,     0.62162,     0.62262,     0.62362,\n",
       "           0.62462,     0.62563,     0.62663,     0.62763,     0.62863,     0.62963,     0.63063,     0.63163,     0.63263,     0.63363,     0.63463,     0.63564,     0.63664,     0.63764,     0.63864,     0.63964,     0.64064,     0.64164,     0.64264,     0.64364,     0.64464,     0.64565,     0.64665,     0.64765,\n",
       "           0.64865,     0.64965,     0.65065,     0.65165,     0.65265,     0.65365,     0.65465,     0.65566,     0.65666,     0.65766,     0.65866,     0.65966,     0.66066,     0.66166,     0.66266,     0.66366,     0.66466,     0.66567,     0.66667,     0.66767,     0.66867,     0.66967,     0.67067,     0.67167,\n",
       "           0.67267,     0.67367,     0.67467,     0.67568,     0.67668,     0.67768,     0.67868,     0.67968,     0.68068,     0.68168,     0.68268,     0.68368,     0.68468,     0.68569,     0.68669,     0.68769,     0.68869,     0.68969,     0.69069,     0.69169,     0.69269,     0.69369,     0.69469,      0.6957,\n",
       "            0.6967,      0.6977,      0.6987,      0.6997,      0.7007,      0.7017,      0.7027,      0.7037,      0.7047,     0.70571,     0.70671,     0.70771,     0.70871,     0.70971,     0.71071,     0.71171,     0.71271,     0.71371,     0.71471,     0.71572,     0.71672,     0.71772,     0.71872,     0.71972,\n",
       "           0.72072,     0.72172,     0.72272,     0.72372,     0.72472,     0.72573,     0.72673,     0.72773,     0.72873,     0.72973,     0.73073,     0.73173,     0.73273,     0.73373,     0.73473,     0.73574,     0.73674,     0.73774,     0.73874,     0.73974,     0.74074,     0.74174,     0.74274,     0.74374,\n",
       "           0.74474,     0.74575,     0.74675,     0.74775,     0.74875,     0.74975,     0.75075,     0.75175,     0.75275,     0.75375,     0.75475,     0.75576,     0.75676,     0.75776,     0.75876,     0.75976,     0.76076,     0.76176,     0.76276,     0.76376,     0.76476,     0.76577,     0.76677,     0.76777,\n",
       "           0.76877,     0.76977,     0.77077,     0.77177,     0.77277,     0.77377,     0.77477,     0.77578,     0.77678,     0.77778,     0.77878,     0.77978,     0.78078,     0.78178,     0.78278,     0.78378,     0.78478,     0.78579,     0.78679,     0.78779,     0.78879,     0.78979,     0.79079,     0.79179,\n",
       "           0.79279,     0.79379,     0.79479,      0.7958,      0.7968,      0.7978,      0.7988,      0.7998,      0.8008,      0.8018,      0.8028,      0.8038,      0.8048,     0.80581,     0.80681,     0.80781,     0.80881,     0.80981,     0.81081,     0.81181,     0.81281,     0.81381,     0.81481,     0.81582,\n",
       "           0.81682,     0.81782,     0.81882,     0.81982,     0.82082,     0.82182,     0.82282,     0.82382,     0.82482,     0.82583,     0.82683,     0.82783,     0.82883,     0.82983,     0.83083,     0.83183,     0.83283,     0.83383,     0.83483,     0.83584,     0.83684,     0.83784,     0.83884,     0.83984,\n",
       "           0.84084,     0.84184,     0.84284,     0.84384,     0.84484,     0.84585,     0.84685,     0.84785,     0.84885,     0.84985,     0.85085,     0.85185,     0.85285,     0.85385,     0.85485,     0.85586,     0.85686,     0.85786,     0.85886,     0.85986,     0.86086,     0.86186,     0.86286,     0.86386,\n",
       "           0.86486,     0.86587,     0.86687,     0.86787,     0.86887,     0.86987,     0.87087,     0.87187,     0.87287,     0.87387,     0.87487,     0.87588,     0.87688,     0.87788,     0.87888,     0.87988,     0.88088,     0.88188,     0.88288,     0.88388,     0.88488,     0.88589,     0.88689,     0.88789,\n",
       "           0.88889,     0.88989,     0.89089,     0.89189,     0.89289,     0.89389,     0.89489,      0.8959,      0.8969,      0.8979,      0.8989,      0.8999,      0.9009,      0.9019,      0.9029,      0.9039,      0.9049,     0.90591,     0.90691,     0.90791,     0.90891,     0.90991,     0.91091,     0.91191,\n",
       "           0.91291,     0.91391,     0.91491,     0.91592,     0.91692,     0.91792,     0.91892,     0.91992,     0.92092,     0.92192,     0.92292,     0.92392,     0.92492,     0.92593,     0.92693,     0.92793,     0.92893,     0.92993,     0.93093,     0.93193,     0.93293,     0.93393,     0.93493,     0.93594,\n",
       "           0.93694,     0.93794,     0.93894,     0.93994,     0.94094,     0.94194,     0.94294,     0.94394,     0.94494,     0.94595,     0.94695,     0.94795,     0.94895,     0.94995,     0.95095,     0.95195,     0.95295,     0.95395,     0.95495,     0.95596,     0.95696,     0.95796,     0.95896,     0.95996,\n",
       "           0.96096,     0.96196,     0.96296,     0.96396,     0.96496,     0.96597,     0.96697,     0.96797,     0.96897,     0.96997,     0.97097,     0.97197,     0.97297,     0.97397,     0.97497,     0.97598,     0.97698,     0.97798,     0.97898,     0.97998,     0.98098,     0.98198,     0.98298,     0.98398,\n",
       "           0.98498,     0.98599,     0.98699,     0.98799,     0.98899,     0.98999,     0.99099,     0.99199,     0.99299,     0.99399,     0.99499,       0.996,       0.997,       0.998,       0.999,           1]), array([[  0.0068992,   0.0068992,   0.0096699,    0.019786,    0.043283,    0.078075,     0.10197,     0.12649,     0.14204,     0.16158,     0.17002,     0.17767,     0.18269,     0.18942,     0.19928,     0.20704,     0.21446,     0.22104,     0.22274,     0.23311,     0.23946,      0.2491,     0.25537,\n",
       "            0.26258,      0.2694,     0.27543,     0.28163,      0.2864,     0.28833,      0.2909,     0.29636,     0.30051,     0.30324,     0.30523,     0.31157,     0.31393,     0.31612,     0.31666,     0.32107,     0.32234,     0.32346,     0.32409,     0.32472,     0.32534,     0.32842,     0.32933,\n",
       "            0.33024,     0.33186,     0.33494,     0.33113,     0.33189,     0.33266,     0.33359,     0.33589,      0.3404,     0.33974,      0.3364,     0.34106,     0.34571,      0.3505,     0.35154,     0.35258,     0.35424,     0.35824,     0.35985,      0.3602,     0.36055,      0.3609,     0.36125,\n",
       "            0.36159,     0.36194,     0.36229,     0.36264,      0.3631,     0.36371,     0.36432,     0.36493,     0.36554,     0.36674,      0.3712,     0.37391,     0.37584,     0.37868,     0.38347,     0.38461,     0.38575,     0.38686,     0.38767,     0.38847,     0.38928,     0.39009,     0.39336,\n",
       "            0.39566,     0.39736,     0.39839,     0.39894,      0.3995,     0.40005,     0.40061,     0.40117,     0.40172,     0.40654,     0.41077,     0.41169,     0.41261,     0.41353,     0.41797,     0.41986,     0.41995,     0.42317,     0.42555,     0.43047,     0.43126,     0.43205,     0.43284,\n",
       "            0.43363,     0.43442,     0.43577,     0.43759,     0.43941,     0.44262,     0.44535,     0.44735,     0.44935,     0.45022,     0.45104,     0.45186,     0.45269,     0.45351,     0.45433,     0.45741,     0.46033,     0.46174,     0.46315,     0.46457,     0.46565,     0.46651,     0.46737,\n",
       "            0.46823,      0.4691,     0.46996,     0.47019,     0.46871,     0.46723,     0.46576,     0.46429,     0.46606,     0.46782,     0.46958,     0.47088,     0.47209,     0.47329,      0.4745,     0.47576,     0.47768,     0.47961,     0.48155,      0.4839,     0.48625,     0.48874,     0.49141,\n",
       "            0.49479,     0.50045,     0.50197,     0.50349,     0.50502,     0.50727,     0.51253,     0.51172,     0.51091,     0.51011,      0.5093,     0.50849,     0.50769,     0.50688,     0.50814,     0.51015,     0.51215,     0.51484,     0.51896,     0.52459,      0.5304,     0.53525,     0.53601,\n",
       "            0.53676,     0.53752,     0.53827,     0.53903,     0.53978,     0.54054,     0.54129,     0.54205,     0.54281,     0.54389,     0.54501,     0.54612,     0.54723,     0.54834,     0.54945,     0.55057,     0.55256,     0.55471,     0.55685,      0.5584,       0.553,     0.55282,      0.5535,\n",
       "            0.55418,     0.55486,     0.55554,     0.55622,      0.5569,     0.55758,     0.55826,     0.55894,     0.55962,     0.56029,     0.56262,     0.56635,     0.56951,     0.57077,     0.57203,     0.57329,     0.57454,      0.5758,     0.57706,      0.5788,     0.58322,     0.58705,     0.58384,\n",
       "            0.58065,     0.58202,     0.58339,     0.58476,     0.58613,      0.5875,     0.58887,     0.58965,     0.58551,     0.59227,     0.59635,         0.6,     0.60503,     0.61514,     0.61675,     0.61835,     0.61996,     0.62156,     0.62317,     0.62477,     0.62758,     0.63059,      0.6336,\n",
       "            0.63639,     0.63668,     0.63698,     0.63728,     0.63757,     0.63787,     0.63817,     0.63846,     0.63876,     0.63906,     0.63935,     0.63965,     0.63994,     0.64024,     0.64054,     0.64083,     0.64113,     0.64143,     0.64172,     0.64202,     0.64232,     0.64261,     0.64291,\n",
       "             0.6432,      0.6435,      0.6438,     0.64409,     0.64439,     0.64469,     0.64498,     0.64528,     0.64558,     0.64587,     0.64617,     0.64647,     0.64676,     0.64706,     0.64735,     0.64765,     0.64795,     0.64923,     0.65257,     0.65592,     0.65926,     0.66073,     0.66127,\n",
       "            0.66181,     0.66235,     0.66288,     0.66342,     0.66396,     0.66449,     0.66503,     0.66557,      0.6661,     0.66664,     0.66718,     0.66771,     0.66825,     0.66879,     0.66932,     0.66986,      0.6704,     0.67093,     0.67147,     0.67201,     0.67254,     0.67318,      0.6863,\n",
       "            0.68721,     0.68812,     0.68903,     0.68993,     0.69084,     0.69175,     0.69266,     0.69357,     0.69447,     0.69538,     0.69629,      0.6972,      0.6981,     0.69901,     0.69992,     0.69975,     0.69947,     0.69919,     0.69891,     0.69863,     0.69835,     0.69807,     0.69779,\n",
       "            0.69751,     0.69724,     0.69696,     0.69668,      0.6964,     0.69612,     0.69584,     0.69556,     0.69528,       0.695,     0.69473,     0.69445,     0.69417,     0.69389,     0.69483,     0.69581,      0.6968,     0.69779,     0.69878,     0.69977,     0.70075,     0.70174,     0.70273,\n",
       "            0.70372,      0.7047,     0.70569,     0.70668,     0.70767,     0.70905,     0.71126,     0.71347,     0.71567,     0.71788,     0.72009,     0.72229,     0.72697,     0.73413,     0.73326,     0.73302,     0.73278,     0.73254,      0.7323,     0.73205,     0.73181,     0.73157,     0.73133,\n",
       "            0.73109,     0.73085,     0.73061,     0.73037,     0.73012,     0.72988,     0.72964,      0.7294,     0.72916,     0.72892,     0.72868,     0.72844,     0.72819,     0.72795,     0.72771,     0.72747,      0.7271,     0.72618,     0.72525,     0.72432,     0.72339,     0.72246,     0.72153,\n",
       "            0.72066,     0.71988,      0.7191,     0.71832,     0.71754,     0.71676,     0.71599,     0.71521,     0.71443,     0.71397,     0.71358,      0.7132,     0.71281,     0.71243,     0.71204,     0.71165,     0.71127,     0.71088,      0.7105,     0.71011,     0.70972,     0.70934,     0.70895,\n",
       "            0.70857,     0.70818,     0.70779,     0.70741,     0.70786,     0.70856,     0.70926,     0.70997,     0.71067,     0.71138,     0.71208,     0.71278,     0.71349,     0.71419,      0.7149,      0.7156,      0.7163,     0.71701,     0.71771,     0.71842,     0.71912,     0.71982,     0.72053,\n",
       "            0.72123,     0.72193,     0.72264,     0.72334,     0.72405,     0.72475,     0.73115,     0.74068,     0.74417,     0.74501,     0.74584,     0.74668,     0.74751,     0.74835,     0.74918,     0.75002,     0.75086,     0.75169,     0.75253,     0.75336,      0.7542,     0.75503,     0.75587,\n",
       "            0.75671,     0.75754,     0.75838,     0.75921,     0.76005,     0.76088,     0.76172,     0.76256,     0.76297,     0.76232,     0.76166,     0.76101,     0.76035,     0.75969,     0.75904,     0.75838,     0.75772,     0.75707,     0.75727,     0.75825,     0.75923,     0.76021,     0.76119,\n",
       "            0.76217,     0.76315,     0.76413,     0.76511,     0.76609,     0.76706,     0.76804,     0.76902,        0.77,     0.77098,     0.77196,     0.77294,     0.77392,      0.7749,     0.77588,     0.77686,     0.77801,     0.78181,      0.7856,      0.7894,      0.7932,     0.79699,      0.7939,\n",
       "            0.79283,     0.79176,      0.7907,     0.78963,     0.78857,     0.78764,     0.78696,     0.78628,      0.7856,     0.78492,     0.78424,     0.78356,     0.78288,      0.7822,     0.78152,     0.78213,     0.78361,     0.78509,     0.78656,     0.78804,     0.78951,     0.79099,     0.79247,\n",
       "            0.79394,     0.79542,     0.79689,     0.79837,     0.79985,     0.80132,      0.8028,     0.80428,     0.80575,     0.81128,     0.82047,     0.82965,     0.83157,     0.82862,     0.82622,     0.82412,     0.82202,     0.82045,     0.81909,     0.81774,     0.81638,     0.81503,     0.81607,\n",
       "            0.81757,     0.81906,     0.82056,     0.82205,     0.82355,     0.82504,     0.82653,     0.82803,     0.82952,     0.83102,     0.83251,       0.834,      0.8355,     0.83699,     0.83849,     0.83998,     0.84147,     0.84297,     0.84446,     0.84596,     0.84573,     0.84525,     0.84476,\n",
       "            0.84428,     0.84379,     0.84331,     0.84282,     0.84234,     0.84185,     0.84137,     0.84088,      0.8404,     0.83958,      0.8373,     0.83502,     0.83285,       0.831,     0.82914,     0.82728,     0.82596,      0.8256,     0.82524,     0.82488,     0.82452,     0.82416,      0.8238,\n",
       "            0.82344,     0.82308,     0.82272,     0.82236,       0.822,     0.82164,     0.82128,     0.82092,     0.82056,      0.8202,     0.81984,     0.81948,     0.81912,     0.81876,      0.8184,     0.81578,     0.80986,     0.80895,     0.80834,     0.80773,     0.80712,     0.80651,      0.8059,\n",
       "            0.80529,     0.80468,     0.80407,     0.80346,     0.80285,     0.80224,     0.80163,     0.80102,     0.80041,      0.8018,     0.80719,     0.81259,     0.81798,     0.82338,     0.82877,     0.83417,     0.83956,     0.83277,     0.83172,     0.83066,      0.8296,     0.82854,     0.82749,\n",
       "            0.82643,     0.82537,     0.82431,     0.82463,     0.82885,     0.83307,     0.83729,     0.84151,     0.84573,     0.84995,     0.85417,     0.85839,     0.86261,     0.86683,     0.87106,     0.87497,     0.87453,      0.8741,     0.87366,     0.87322,     0.87278,     0.87234,     0.87191,\n",
       "            0.87147,     0.87103,     0.87059,     0.87015,     0.86971,     0.86928,     0.86884,      0.8684,     0.86796,     0.86752,     0.86709,     0.86666,     0.86639,     0.86613,     0.86586,      0.8656,     0.86534,     0.86507,     0.86481,     0.86454,     0.86428,     0.86402,     0.86375,\n",
       "            0.86349,     0.86323,     0.86296,      0.8627,     0.86243,     0.86217,     0.86191,     0.86164,     0.86138,     0.86112,     0.86085,     0.86059,     0.86032,     0.86006,      0.8598,     0.85953,     0.85927,       0.859,     0.85874,     0.85848,     0.85821,     0.85795,     0.85769,\n",
       "            0.85742,     0.85716,     0.89971,     0.93067,     0.94644,     0.96221,     0.97798,     0.99375,           1,           1,           1,           1,           1,           1,           1,           1,           1,           1,           1,           1,           1,           1,           1,\n",
       "                  1,           1,           1,           1,           1,           1,           1,           1,           1,           1,           1,           1,           1,           1,           1,           1,           1,           1,           1,           1,           1,           1,           1,\n",
       "                  1,           1,           1,           1,           1,           1,           1,           1,           1,           1,           1,           1,           1,           1,           1,           1,           1,           1,           1,           1,           1,           1,           1,\n",
       "                  1,           1,           1,           1,           1,           1,           1,           1,           1,           1,           1,           1,           1,           1,           1,           1,           1,           1,           1,           1,           1,           1,           1,\n",
       "                  1,           1,           1,           1,           1,           1,           1,           1,           1,           1,           1,           1,           1,           1,           1,           1,           1,           1,           1,           1,           1,           1,           1,\n",
       "                  1,           1,           1,           1,           1,           1,           1,           1,           1,           1,           1,           1,           1,           1,           1,           1,           1,           1,           1,           1,           1,           1,           1,\n",
       "                  1,           1,           1,           1,           1,           1,           1,           1,           1,           1,           1,           1,           1,           1,           1,           1,           1,           1,           1,           1,           1,           1,           1,\n",
       "                  1,           1,           1,           1,           1,           1,           1,           1,           1,           1,           1,           1,           1,           1,           1,           1,           1,           1,           1,           1,           1,           1,           1,\n",
       "                  1,           1,           1,           1,           1,           1,           1,           1,           1,           1,           1,           1,           1,           1,           1,           1,           1,           1,           1,           1,           1,           1,           1,\n",
       "                  1,           1,           1,           1,           1,           1,           1,           1,           1,           1,           1,           1,           1,           1,           1,           1,           1,           1,           1,           1,           1,           1,           1,\n",
       "                  1,           1,           1,           1,           1,           1,           1,           1,           1,           1,           1,           1,           1,           1,           1,           1,           1,           1,           1,           1,           1,           1,           1,\n",
       "                  1,           1,           1,           1,           1,           1,           1,           1,           1,           1,           1]]), 'Confidence', 'Precision'], [array([          0,    0.001001,    0.002002,    0.003003,    0.004004,    0.005005,    0.006006,    0.007007,    0.008008,    0.009009,     0.01001,    0.011011,    0.012012,    0.013013,    0.014014,    0.015015,    0.016016,    0.017017,    0.018018,    0.019019,     0.02002,    0.021021,    0.022022,    0.023023,\n",
       "          0.024024,    0.025025,    0.026026,    0.027027,    0.028028,    0.029029,     0.03003,    0.031031,    0.032032,    0.033033,    0.034034,    0.035035,    0.036036,    0.037037,    0.038038,    0.039039,     0.04004,    0.041041,    0.042042,    0.043043,    0.044044,    0.045045,    0.046046,    0.047047,\n",
       "          0.048048,    0.049049,     0.05005,    0.051051,    0.052052,    0.053053,    0.054054,    0.055055,    0.056056,    0.057057,    0.058058,    0.059059,     0.06006,    0.061061,    0.062062,    0.063063,    0.064064,    0.065065,    0.066066,    0.067067,    0.068068,    0.069069,     0.07007,    0.071071,\n",
       "          0.072072,    0.073073,    0.074074,    0.075075,    0.076076,    0.077077,    0.078078,    0.079079,     0.08008,    0.081081,    0.082082,    0.083083,    0.084084,    0.085085,    0.086086,    0.087087,    0.088088,    0.089089,     0.09009,    0.091091,    0.092092,    0.093093,    0.094094,    0.095095,\n",
       "          0.096096,    0.097097,    0.098098,    0.099099,      0.1001,      0.1011,      0.1021,      0.1031,      0.1041,     0.10511,     0.10611,     0.10711,     0.10811,     0.10911,     0.11011,     0.11111,     0.11211,     0.11311,     0.11411,     0.11512,     0.11612,     0.11712,     0.11812,     0.11912,\n",
       "           0.12012,     0.12112,     0.12212,     0.12312,     0.12412,     0.12513,     0.12613,     0.12713,     0.12813,     0.12913,     0.13013,     0.13113,     0.13213,     0.13313,     0.13413,     0.13514,     0.13614,     0.13714,     0.13814,     0.13914,     0.14014,     0.14114,     0.14214,     0.14314,\n",
       "           0.14414,     0.14515,     0.14615,     0.14715,     0.14815,     0.14915,     0.15015,     0.15115,     0.15215,     0.15315,     0.15415,     0.15516,     0.15616,     0.15716,     0.15816,     0.15916,     0.16016,     0.16116,     0.16216,     0.16316,     0.16416,     0.16517,     0.16617,     0.16717,\n",
       "           0.16817,     0.16917,     0.17017,     0.17117,     0.17217,     0.17317,     0.17417,     0.17518,     0.17618,     0.17718,     0.17818,     0.17918,     0.18018,     0.18118,     0.18218,     0.18318,     0.18418,     0.18519,     0.18619,     0.18719,     0.18819,     0.18919,     0.19019,     0.19119,\n",
       "           0.19219,     0.19319,     0.19419,      0.1952,      0.1962,      0.1972,      0.1982,      0.1992,      0.2002,      0.2012,      0.2022,      0.2032,      0.2042,     0.20521,     0.20621,     0.20721,     0.20821,     0.20921,     0.21021,     0.21121,     0.21221,     0.21321,     0.21421,     0.21522,\n",
       "           0.21622,     0.21722,     0.21822,     0.21922,     0.22022,     0.22122,     0.22222,     0.22322,     0.22422,     0.22523,     0.22623,     0.22723,     0.22823,     0.22923,     0.23023,     0.23123,     0.23223,     0.23323,     0.23423,     0.23524,     0.23624,     0.23724,     0.23824,     0.23924,\n",
       "           0.24024,     0.24124,     0.24224,     0.24324,     0.24424,     0.24525,     0.24625,     0.24725,     0.24825,     0.24925,     0.25025,     0.25125,     0.25225,     0.25325,     0.25425,     0.25526,     0.25626,     0.25726,     0.25826,     0.25926,     0.26026,     0.26126,     0.26226,     0.26326,\n",
       "           0.26426,     0.26527,     0.26627,     0.26727,     0.26827,     0.26927,     0.27027,     0.27127,     0.27227,     0.27327,     0.27427,     0.27528,     0.27628,     0.27728,     0.27828,     0.27928,     0.28028,     0.28128,     0.28228,     0.28328,     0.28428,     0.28529,     0.28629,     0.28729,\n",
       "           0.28829,     0.28929,     0.29029,     0.29129,     0.29229,     0.29329,     0.29429,      0.2953,      0.2963,      0.2973,      0.2983,      0.2993,      0.3003,      0.3013,      0.3023,      0.3033,      0.3043,     0.30531,     0.30631,     0.30731,     0.30831,     0.30931,     0.31031,     0.31131,\n",
       "           0.31231,     0.31331,     0.31431,     0.31532,     0.31632,     0.31732,     0.31832,     0.31932,     0.32032,     0.32132,     0.32232,     0.32332,     0.32432,     0.32533,     0.32633,     0.32733,     0.32833,     0.32933,     0.33033,     0.33133,     0.33233,     0.33333,     0.33433,     0.33534,\n",
       "           0.33634,     0.33734,     0.33834,     0.33934,     0.34034,     0.34134,     0.34234,     0.34334,     0.34434,     0.34535,     0.34635,     0.34735,     0.34835,     0.34935,     0.35035,     0.35135,     0.35235,     0.35335,     0.35435,     0.35536,     0.35636,     0.35736,     0.35836,     0.35936,\n",
       "           0.36036,     0.36136,     0.36236,     0.36336,     0.36436,     0.36537,     0.36637,     0.36737,     0.36837,     0.36937,     0.37037,     0.37137,     0.37237,     0.37337,     0.37437,     0.37538,     0.37638,     0.37738,     0.37838,     0.37938,     0.38038,     0.38138,     0.38238,     0.38338,\n",
       "           0.38438,     0.38539,     0.38639,     0.38739,     0.38839,     0.38939,     0.39039,     0.39139,     0.39239,     0.39339,     0.39439,      0.3954,      0.3964,      0.3974,      0.3984,      0.3994,      0.4004,      0.4014,      0.4024,      0.4034,      0.4044,     0.40541,     0.40641,     0.40741,\n",
       "           0.40841,     0.40941,     0.41041,     0.41141,     0.41241,     0.41341,     0.41441,     0.41542,     0.41642,     0.41742,     0.41842,     0.41942,     0.42042,     0.42142,     0.42242,     0.42342,     0.42442,     0.42543,     0.42643,     0.42743,     0.42843,     0.42943,     0.43043,     0.43143,\n",
       "           0.43243,     0.43343,     0.43443,     0.43544,     0.43644,     0.43744,     0.43844,     0.43944,     0.44044,     0.44144,     0.44244,     0.44344,     0.44444,     0.44545,     0.44645,     0.44745,     0.44845,     0.44945,     0.45045,     0.45145,     0.45245,     0.45345,     0.45445,     0.45546,\n",
       "           0.45646,     0.45746,     0.45846,     0.45946,     0.46046,     0.46146,     0.46246,     0.46346,     0.46446,     0.46547,     0.46647,     0.46747,     0.46847,     0.46947,     0.47047,     0.47147,     0.47247,     0.47347,     0.47447,     0.47548,     0.47648,     0.47748,     0.47848,     0.47948,\n",
       "           0.48048,     0.48148,     0.48248,     0.48348,     0.48448,     0.48549,     0.48649,     0.48749,     0.48849,     0.48949,     0.49049,     0.49149,     0.49249,     0.49349,     0.49449,      0.4955,      0.4965,      0.4975,      0.4985,      0.4995,      0.5005,      0.5015,      0.5025,      0.5035,\n",
       "            0.5045,     0.50551,     0.50651,     0.50751,     0.50851,     0.50951,     0.51051,     0.51151,     0.51251,     0.51351,     0.51451,     0.51552,     0.51652,     0.51752,     0.51852,     0.51952,     0.52052,     0.52152,     0.52252,     0.52352,     0.52452,     0.52553,     0.52653,     0.52753,\n",
       "           0.52853,     0.52953,     0.53053,     0.53153,     0.53253,     0.53353,     0.53453,     0.53554,     0.53654,     0.53754,     0.53854,     0.53954,     0.54054,     0.54154,     0.54254,     0.54354,     0.54454,     0.54555,     0.54655,     0.54755,     0.54855,     0.54955,     0.55055,     0.55155,\n",
       "           0.55255,     0.55355,     0.55455,     0.55556,     0.55656,     0.55756,     0.55856,     0.55956,     0.56056,     0.56156,     0.56256,     0.56356,     0.56456,     0.56557,     0.56657,     0.56757,     0.56857,     0.56957,     0.57057,     0.57157,     0.57257,     0.57357,     0.57457,     0.57558,\n",
       "           0.57658,     0.57758,     0.57858,     0.57958,     0.58058,     0.58158,     0.58258,     0.58358,     0.58458,     0.58559,     0.58659,     0.58759,     0.58859,     0.58959,     0.59059,     0.59159,     0.59259,     0.59359,     0.59459,      0.5956,      0.5966,      0.5976,      0.5986,      0.5996,\n",
       "            0.6006,      0.6016,      0.6026,      0.6036,      0.6046,     0.60561,     0.60661,     0.60761,     0.60861,     0.60961,     0.61061,     0.61161,     0.61261,     0.61361,     0.61461,     0.61562,     0.61662,     0.61762,     0.61862,     0.61962,     0.62062,     0.62162,     0.62262,     0.62362,\n",
       "           0.62462,     0.62563,     0.62663,     0.62763,     0.62863,     0.62963,     0.63063,     0.63163,     0.63263,     0.63363,     0.63463,     0.63564,     0.63664,     0.63764,     0.63864,     0.63964,     0.64064,     0.64164,     0.64264,     0.64364,     0.64464,     0.64565,     0.64665,     0.64765,\n",
       "           0.64865,     0.64965,     0.65065,     0.65165,     0.65265,     0.65365,     0.65465,     0.65566,     0.65666,     0.65766,     0.65866,     0.65966,     0.66066,     0.66166,     0.66266,     0.66366,     0.66466,     0.66567,     0.66667,     0.66767,     0.66867,     0.66967,     0.67067,     0.67167,\n",
       "           0.67267,     0.67367,     0.67467,     0.67568,     0.67668,     0.67768,     0.67868,     0.67968,     0.68068,     0.68168,     0.68268,     0.68368,     0.68468,     0.68569,     0.68669,     0.68769,     0.68869,     0.68969,     0.69069,     0.69169,     0.69269,     0.69369,     0.69469,      0.6957,\n",
       "            0.6967,      0.6977,      0.6987,      0.6997,      0.7007,      0.7017,      0.7027,      0.7037,      0.7047,     0.70571,     0.70671,     0.70771,     0.70871,     0.70971,     0.71071,     0.71171,     0.71271,     0.71371,     0.71471,     0.71572,     0.71672,     0.71772,     0.71872,     0.71972,\n",
       "           0.72072,     0.72172,     0.72272,     0.72372,     0.72472,     0.72573,     0.72673,     0.72773,     0.72873,     0.72973,     0.73073,     0.73173,     0.73273,     0.73373,     0.73473,     0.73574,     0.73674,     0.73774,     0.73874,     0.73974,     0.74074,     0.74174,     0.74274,     0.74374,\n",
       "           0.74474,     0.74575,     0.74675,     0.74775,     0.74875,     0.74975,     0.75075,     0.75175,     0.75275,     0.75375,     0.75475,     0.75576,     0.75676,     0.75776,     0.75876,     0.75976,     0.76076,     0.76176,     0.76276,     0.76376,     0.76476,     0.76577,     0.76677,     0.76777,\n",
       "           0.76877,     0.76977,     0.77077,     0.77177,     0.77277,     0.77377,     0.77477,     0.77578,     0.77678,     0.77778,     0.77878,     0.77978,     0.78078,     0.78178,     0.78278,     0.78378,     0.78478,     0.78579,     0.78679,     0.78779,     0.78879,     0.78979,     0.79079,     0.79179,\n",
       "           0.79279,     0.79379,     0.79479,      0.7958,      0.7968,      0.7978,      0.7988,      0.7998,      0.8008,      0.8018,      0.8028,      0.8038,      0.8048,     0.80581,     0.80681,     0.80781,     0.80881,     0.80981,     0.81081,     0.81181,     0.81281,     0.81381,     0.81481,     0.81582,\n",
       "           0.81682,     0.81782,     0.81882,     0.81982,     0.82082,     0.82182,     0.82282,     0.82382,     0.82482,     0.82583,     0.82683,     0.82783,     0.82883,     0.82983,     0.83083,     0.83183,     0.83283,     0.83383,     0.83483,     0.83584,     0.83684,     0.83784,     0.83884,     0.83984,\n",
       "           0.84084,     0.84184,     0.84284,     0.84384,     0.84484,     0.84585,     0.84685,     0.84785,     0.84885,     0.84985,     0.85085,     0.85185,     0.85285,     0.85385,     0.85485,     0.85586,     0.85686,     0.85786,     0.85886,     0.85986,     0.86086,     0.86186,     0.86286,     0.86386,\n",
       "           0.86486,     0.86587,     0.86687,     0.86787,     0.86887,     0.86987,     0.87087,     0.87187,     0.87287,     0.87387,     0.87487,     0.87588,     0.87688,     0.87788,     0.87888,     0.87988,     0.88088,     0.88188,     0.88288,     0.88388,     0.88488,     0.88589,     0.88689,     0.88789,\n",
       "           0.88889,     0.88989,     0.89089,     0.89189,     0.89289,     0.89389,     0.89489,      0.8959,      0.8969,      0.8979,      0.8989,      0.8999,      0.9009,      0.9019,      0.9029,      0.9039,      0.9049,     0.90591,     0.90691,     0.90791,     0.90891,     0.90991,     0.91091,     0.91191,\n",
       "           0.91291,     0.91391,     0.91491,     0.91592,     0.91692,     0.91792,     0.91892,     0.91992,     0.92092,     0.92192,     0.92292,     0.92392,     0.92492,     0.92593,     0.92693,     0.92793,     0.92893,     0.92993,     0.93093,     0.93193,     0.93293,     0.93393,     0.93493,     0.93594,\n",
       "           0.93694,     0.93794,     0.93894,     0.93994,     0.94094,     0.94194,     0.94294,     0.94394,     0.94494,     0.94595,     0.94695,     0.94795,     0.94895,     0.94995,     0.95095,     0.95195,     0.95295,     0.95395,     0.95495,     0.95596,     0.95696,     0.95796,     0.95896,     0.95996,\n",
       "           0.96096,     0.96196,     0.96296,     0.96396,     0.96496,     0.96597,     0.96697,     0.96797,     0.96897,     0.96997,     0.97097,     0.97197,     0.97297,     0.97397,     0.97497,     0.97598,     0.97698,     0.97798,     0.97898,     0.97998,     0.98098,     0.98198,     0.98298,     0.98398,\n",
       "           0.98498,     0.98599,     0.98699,     0.98799,     0.98899,     0.98999,     0.99099,     0.99199,     0.99299,     0.99399,     0.99499,       0.996,       0.997,       0.998,       0.999,           1]), array([[    0.86885,     0.86885,     0.83607,     0.81967,     0.80328,     0.78689,     0.77049,     0.77049,      0.7541,      0.7541,      0.7377,      0.7377,      0.7377,      0.7377,      0.7377,      0.7377,      0.7377,     0.73036,     0.72131,     0.72131,     0.72131,     0.72131,     0.72131,\n",
       "            0.72131,     0.72131,     0.72131,     0.72131,     0.72131,     0.72131,     0.72131,     0.72131,     0.72131,     0.72131,     0.72131,     0.72131,     0.72131,     0.72131,     0.70492,     0.70492,     0.70492,     0.70492,     0.70492,     0.70492,     0.70492,     0.70492,     0.70492,\n",
       "            0.70492,     0.70492,     0.70179,     0.68852,     0.68852,     0.68852,     0.68852,     0.68852,     0.68852,     0.68328,     0.67213,     0.67213,     0.67213,     0.67213,     0.67213,     0.67213,     0.67213,     0.67213,     0.67213,     0.67213,     0.67213,     0.67213,     0.67213,\n",
       "            0.67213,     0.67213,     0.67213,     0.67213,     0.67213,     0.67213,     0.67213,     0.67213,     0.67213,     0.67213,     0.67213,     0.67213,     0.67213,     0.67213,     0.67213,     0.67213,     0.67213,     0.67213,     0.67213,     0.67213,     0.67213,     0.67213,     0.67213,\n",
       "            0.67213,     0.67213,     0.67213,     0.67213,     0.67213,     0.67213,     0.67213,     0.67213,     0.67213,     0.67213,     0.67213,     0.67213,     0.67213,     0.67213,     0.67213,     0.66445,     0.65574,     0.65574,     0.65574,     0.65574,     0.65574,     0.65574,     0.65574,\n",
       "            0.65574,     0.65574,     0.65574,     0.65574,     0.65574,     0.65574,     0.65574,     0.65574,     0.65574,     0.65574,     0.65574,     0.65574,     0.65574,     0.65574,     0.65574,     0.65574,     0.65574,     0.65574,     0.65574,     0.65574,     0.65574,     0.65574,     0.65574,\n",
       "            0.65574,     0.65574,     0.65574,     0.65469,     0.65085,     0.64701,     0.64317,     0.63934,     0.63934,     0.63934,     0.63934,     0.63934,     0.63934,     0.63934,     0.63934,     0.63934,     0.63934,     0.63934,     0.63934,     0.63934,     0.63934,     0.63934,     0.63934,\n",
       "            0.63934,     0.63934,     0.63934,     0.63934,     0.63934,     0.63934,     0.63775,     0.63571,     0.63367,     0.63164,      0.6296,     0.62756,     0.62553,     0.62349,     0.62295,     0.62295,     0.62295,     0.62295,     0.62295,     0.62295,     0.62295,     0.62295,     0.62295,\n",
       "            0.62295,     0.62295,     0.62295,     0.62295,     0.62295,     0.62295,     0.62295,     0.62295,     0.62295,     0.62295,     0.62295,     0.62295,     0.62295,     0.62295,     0.62295,     0.62295,     0.62295,     0.62295,     0.62295,      0.6219,     0.60846,     0.60656,     0.60656,\n",
       "            0.60656,     0.60656,     0.60656,     0.60656,     0.60656,     0.60656,     0.60656,     0.60656,     0.60656,     0.60656,     0.60656,     0.60656,     0.60656,     0.60656,     0.60656,     0.60656,     0.60656,     0.60656,     0.60656,     0.60656,     0.60656,     0.60593,     0.59803,\n",
       "            0.59016,     0.59016,     0.59016,     0.59016,     0.59016,     0.59016,     0.59016,     0.58894,     0.57377,     0.57377,     0.57377,     0.57377,     0.57377,     0.57377,     0.57377,     0.57377,     0.57377,     0.57377,     0.57377,     0.57377,     0.57377,     0.57377,     0.57377,\n",
       "            0.57377,     0.57377,     0.57377,     0.57377,     0.57377,     0.57377,     0.57377,     0.57377,     0.57377,     0.57377,     0.57377,     0.57377,     0.57377,     0.57377,     0.57377,     0.57377,     0.57377,     0.57377,     0.57377,     0.57377,     0.57377,     0.57377,     0.57377,\n",
       "            0.57377,     0.57377,     0.57377,     0.57377,     0.57377,     0.57377,     0.57377,     0.57377,     0.57377,     0.57377,     0.57377,     0.57377,     0.57377,     0.57377,     0.57377,     0.57377,     0.57377,     0.57377,     0.57377,     0.57377,     0.57377,     0.57377,     0.57377,\n",
       "            0.57377,     0.57377,     0.57377,     0.57377,     0.57377,     0.57377,     0.57377,     0.57377,     0.57377,     0.57377,     0.57377,     0.57377,     0.57377,     0.57377,     0.57377,     0.57377,     0.57377,     0.57377,     0.57377,     0.57377,     0.57377,     0.57377,     0.57377,\n",
       "            0.57377,     0.57377,     0.57377,     0.57377,     0.57377,     0.57377,     0.57377,     0.57377,     0.57377,     0.57377,     0.57377,     0.57377,     0.57377,     0.57377,     0.57377,     0.57309,     0.57234,      0.5716,     0.57085,      0.5701,     0.56936,     0.56861,     0.56786,\n",
       "            0.56712,     0.56637,     0.56562,     0.56488,     0.56413,     0.56338,     0.56263,     0.56189,     0.56114,     0.56039,     0.55965,      0.5589,     0.55815,     0.55741,     0.55738,     0.55738,     0.55738,     0.55738,     0.55738,     0.55738,     0.55738,     0.55738,     0.55738,\n",
       "            0.55738,     0.55738,     0.55738,     0.55738,     0.55738,     0.55738,     0.55738,     0.55738,     0.55738,     0.55738,     0.55738,     0.55738,     0.55738,     0.55738,     0.54079,     0.54013,     0.53948,     0.53883,     0.53818,     0.53752,     0.53687,     0.53622,     0.53557,\n",
       "            0.53491,     0.53426,     0.53361,     0.53296,      0.5323,     0.53165,       0.531,     0.53035,     0.52969,     0.52904,     0.52839,     0.52774,     0.52708,     0.52643,     0.52578,     0.52512,     0.52416,     0.52176,     0.51936,     0.51695,     0.51455,     0.51215,     0.50975,\n",
       "            0.50752,      0.5056,     0.50368,     0.50176,     0.49984,     0.49792,       0.496,     0.49408,     0.49216,     0.49106,     0.49015,     0.48925,     0.48834,     0.48743,     0.48652,     0.48561,      0.4847,      0.4838,     0.48289,     0.48198,     0.48107,     0.48016,     0.47925,\n",
       "            0.47835,     0.47744,     0.47653,     0.47562,     0.47541,     0.47541,     0.47541,     0.47541,     0.47541,     0.47541,     0.47541,     0.47541,     0.47541,     0.47541,     0.47541,     0.47541,     0.47541,     0.47541,     0.47541,     0.47541,     0.47541,     0.47541,     0.47541,\n",
       "            0.47541,     0.47541,     0.47541,     0.47541,     0.47541,     0.47541,     0.47541,     0.47541,     0.47541,     0.47541,     0.47541,     0.47541,     0.47541,     0.47541,     0.47541,     0.47541,     0.47541,     0.47541,     0.47541,     0.47541,     0.47541,     0.47541,     0.47541,\n",
       "            0.47541,     0.47541,     0.47541,     0.47541,     0.47541,     0.47541,     0.47541,     0.47541,     0.47494,     0.47326,     0.47158,      0.4699,     0.46822,     0.46654,     0.46486,     0.46318,      0.4615,     0.45982,     0.45902,     0.45902,     0.45902,     0.45902,     0.45902,\n",
       "            0.45902,     0.45902,     0.45902,     0.45902,     0.45902,     0.45902,     0.45902,     0.45902,     0.45902,     0.45902,     0.45902,     0.45902,     0.45902,     0.45902,     0.45902,     0.45902,     0.45902,     0.45902,     0.45902,     0.45902,     0.45902,     0.45902,     0.44204,\n",
       "            0.43924,     0.43644,     0.43364,     0.43084,     0.42804,     0.42563,     0.42395,     0.42227,     0.42059,     0.41891,     0.41723,     0.41555,     0.41387,     0.41219,     0.41051,     0.40984,     0.40984,     0.40984,     0.40984,     0.40984,     0.40984,     0.40984,     0.40984,\n",
       "            0.40984,     0.40984,     0.40984,     0.40984,     0.40984,     0.40984,     0.40984,     0.40984,     0.40984,     0.40984,     0.40984,     0.40984,      0.4048,      0.3964,     0.38981,     0.38421,     0.37861,     0.37463,     0.37126,      0.3679,     0.36454,     0.36118,     0.36066,\n",
       "            0.36066,     0.36066,     0.36066,     0.36066,     0.36066,     0.36066,     0.36066,     0.36066,     0.36066,     0.36066,     0.36066,     0.36066,     0.36066,     0.36066,     0.36066,     0.36066,     0.36066,     0.36066,     0.36066,     0.36066,     0.35953,     0.35824,     0.35695,\n",
       "            0.35566,     0.35436,     0.35307,     0.35178,     0.35049,     0.34919,      0.3479,     0.34661,     0.34532,     0.34322,     0.33762,     0.33202,     0.32678,     0.32258,     0.31838,     0.31418,     0.31121,     0.31046,     0.30972,     0.30897,     0.30822,     0.30748,     0.30673,\n",
       "            0.30598,     0.30523,     0.30449,     0.30374,     0.30299,     0.30225,      0.3015,     0.30075,     0.30001,     0.29926,     0.29851,     0.29777,     0.29702,     0.29627,     0.29553,     0.29054,     0.27933,      0.2777,     0.27665,      0.2756,     0.27455,      0.2735,     0.27245,\n",
       "             0.2714,     0.27035,      0.2693,     0.26825,      0.2672,     0.26615,      0.2651,     0.26405,       0.263,      0.2623,      0.2623,      0.2623,      0.2623,      0.2623,      0.2623,      0.2623,      0.2623,     0.24497,      0.2432,     0.24143,     0.23966,     0.23789,     0.23612,\n",
       "            0.23435,     0.23259,     0.23082,     0.22951,     0.22951,     0.22951,     0.22951,     0.22951,     0.22951,     0.22951,     0.22951,     0.22951,     0.22951,     0.22951,     0.22951,     0.22945,     0.22859,     0.22773,     0.22687,       0.226,     0.22514,     0.22428,     0.22342,\n",
       "            0.22256,      0.2217,     0.22083,     0.21997,     0.21911,     0.21825,     0.21739,     0.21653,     0.21566,      0.2148,     0.21394,      0.2131,     0.21264,     0.21219,     0.21173,     0.21128,     0.21083,     0.21037,     0.20992,     0.20946,     0.20901,     0.20855,      0.2081,\n",
       "            0.20765,     0.20719,     0.20674,     0.20628,     0.20583,     0.20538,     0.20492,     0.20447,     0.20401,     0.20356,      0.2031,     0.20265,      0.2022,     0.20174,     0.20129,     0.20083,     0.20038,     0.19993,     0.19947,     0.19902,     0.19856,     0.19811,     0.19765,\n",
       "             0.1972,     0.19675,     0.19672,     0.19672,     0.19672,     0.19672,     0.19672,     0.19672,     0.19334,     0.18774,     0.18214,     0.17973,     0.17884,     0.17796,     0.17708,     0.17619,     0.17531,     0.17442,     0.17354,     0.17265,     0.17177,     0.17089,        0.17,\n",
       "            0.16912,     0.16823,     0.16735,     0.16646,     0.16558,     0.16469,     0.16366,     0.16168,      0.1597,     0.15773,     0.15575,     0.15377,     0.15179,     0.14982,     0.14784,      0.1455,      0.1431,      0.1407,      0.1383,      0.1359,      0.1335,     0.11474,     0.11411,\n",
       "            0.11347,     0.11284,     0.11221,     0.11157,     0.11094,      0.1103,     0.10967,     0.10904,      0.1084,     0.10777,     0.10713,      0.1065,     0.10586,     0.10523,      0.1046,     0.10396,     0.10333,     0.10269,     0.10206,     0.10143,     0.10079,     0.10016,    0.099524,\n",
       "           0.098889,    0.097245,    0.090523,    0.083802,    0.081288,    0.080355,    0.079421,    0.078488,    0.077554,    0.076621,    0.075687,    0.074754,     0.07382,    0.072887,    0.071953,     0.07102,    0.070086,    0.069152,    0.068219,    0.067285,    0.066352,    0.065201,     0.06296,\n",
       "            0.06072,    0.058479,    0.056239,    0.053998,    0.051758,    0.049517,    0.048315,    0.047297,    0.046278,     0.04526,    0.044241,    0.043223,    0.042205,    0.041186,    0.040168,    0.039149,    0.038131,    0.037113,    0.036094,    0.035076,    0.034057,    0.033039,    0.032475,\n",
       "            0.03206,    0.031645,     0.03123,    0.030815,      0.0304,    0.029985,     0.02957,    0.029155,    0.028741,    0.028326,    0.027911,    0.027496,    0.027081,    0.026666,    0.026251,    0.025836,    0.025421,    0.025006,    0.024591,    0.024177,    0.023762,    0.023347,    0.022932,\n",
       "           0.022517,    0.022102,    0.021687,    0.021272,    0.020857,    0.020442,    0.020028,    0.019613,    0.019198,    0.018783,    0.018368,    0.017953,    0.017538,    0.017123,    0.016708,           0,           0,           0,           0,           0,           0,           0,           0,\n",
       "                  0,           0,           0,           0,           0,           0,           0,           0,           0,           0,           0,           0,           0,           0,           0,           0,           0,           0,           0,           0,           0,           0,           0,\n",
       "                  0,           0,           0,           0,           0,           0,           0,           0,           0,           0,           0,           0,           0,           0,           0,           0,           0,           0,           0,           0,           0,           0,           0,\n",
       "                  0,           0,           0,           0,           0,           0,           0,           0,           0,           0,           0,           0,           0,           0,           0,           0,           0,           0,           0,           0,           0,           0,           0,\n",
       "                  0,           0,           0,           0,           0,           0,           0,           0,           0,           0,           0,           0,           0,           0,           0,           0,           0,           0,           0,           0,           0,           0,           0,\n",
       "                  0,           0,           0,           0,           0,           0,           0,           0,           0,           0,           0]]), 'Confidence', 'Recall']]\n",
       "fitness: 0.27105892918918445\n",
       "keys: ['metrics/precision(B)', 'metrics/recall(B)', 'metrics/mAP50(B)', 'metrics/mAP50-95(B)']\n",
       "maps: array([    0.23654])\n",
       "names: {0: 'fire'}\n",
       "plot: True\n",
       "results_dict: {'metrics/precision(B)': 0.6969568207663446, 'metrics/recall(B)': 0.5656220883907587, 'metrics/mAP50(B)': 0.5817462903687874, 'metrics/mAP50-95(B)': 0.2365381112803397, 'fitness': 0.27105892918918445}\n",
       "save_dir: WindowsPath('runs/detect/train16')\n",
       "speed: {'preprocess': 0.24207741937002977, 'inference': 2.5956935484035997, 'loss': 0.00013225807408396634, 'postprocess': 0.6198258064497139}\n",
       "task: 'detect'"
      ]
     },
     "execution_count": 1,
     "metadata": {},
     "output_type": "execute_result"
    }
   ],
   "source": [
    "from ultralytics import YOLO\n",
    "\n",
    "model = YOLO(\"yolov8n.pt\")  \n",
    "\n",
    "model.train(data=\"./fire_data/train/data.yaml\", epochs=50, imgsz=640)\n"
   ]
  },
  {
   "cell_type": "code",
   "execution_count": 2,
   "id": "cb5b33a1",
   "metadata": {},
   "outputs": [],
   "source": [
    "model.save('yolov8_fire_model.pt')"
   ]
  },
  {
   "cell_type": "code",
   "execution_count": null,
   "id": "cdadacd6",
   "metadata": {},
   "outputs": [
    {
     "name": "stdout",
     "output_type": "stream",
     "text": [
      "\n",
      "image 1/1 d:\\Fire_Detection\\image.jpg: 320x640 3 fires, 70.1ms\n",
      "Speed: 3.9ms preprocess, 70.1ms inference, 10.5ms postprocess per image at shape (1, 3, 320, 640)\n"
     ]
    }
   ],
   "source": [
    "import matplotlib.pyplot as plt\n",
    "results = model.predict(source=\"./image.jpg\", imgsz=640)\n",
    "\n",
    "# Lấy kết quả dự đoán từ ảnh đầu tiên\n",
    "result = results[0]\n",
    "boxes = result.boxes.xywh  # Tọa độ box theo dạng (x_center, y_center, width, height)\n",
    "confidences = result.boxes.conf  # Độ tin cậy của từng dự đoán\n",
    "labels = result.names  # Tên lớp của các đối tượng (có thể là 'fire')\n",
    "\n",
    "# Vẽ bounding box lên ảnh\n",
    "plt.figure(figsize=(8, 8))\n",
    "plt.imshow(result.orig_img)\n",
    "for i in range(len(boxes)):\n",
    "    x_center, y_center, width, height = boxes[i]\n",
    "    x_min = (x_center - width / 2) * result.orig_img.shape[1]\n",
    "    y_min = (y_center - height / 2) * result.orig_img.shape[0]\n",
    "    x_max = (x_center + width / 2) * result.orig_img.shape[1]\n",
    "    y_max = (y_center + height / 2) * result.orig_img.shape[0]\n",
    "    \n",
    "    plt.plot([x_min, x_max, x_max, x_min, x_min],\n",
    "             [y_min, y_min, y_max, y_max, y_min], 'r')\n",
    "\n",
    "plt.title(\"YOLO Prediction Result\")\n",
    "plt.axis('off')\n",
    "plt.show()\n"
   ]
  },
  {
   "cell_type": "markdown",
   "id": "f1c44259",
   "metadata": {},
   "source": [
    "R-CNN\n"
   ]
  },
  {
   "cell_type": "code",
   "execution_count": 18,
   "id": "ba29d9f9",
   "metadata": {},
   "outputs": [],
   "source": [
    "import os\n",
    "import numpy as np\n",
    "import torch\n",
    "from PIL import Image\n",
    "import torchvision\n",
    "from torchvision.models.detection.faster_rcnn import FastRCNNPredictor\n",
    "from torchvision.transforms import functional as F\n",
    "from torch.utils.data import DataLoader, Dataset\n",
    "import matplotlib.pyplot as plt\n",
    "import random\n",
    "import time"
   ]
  },
  {
   "cell_type": "code",
   "execution_count": 19,
   "id": "bd964d1d",
   "metadata": {},
   "outputs": [],
   "source": [
    "class FireDataset(Dataset):\n",
    "    def __init__(self, root, transforms=None):\n",
    "        self.root = root\n",
    "        self.transforms = transforms\n",
    "        self.imgs = list(sorted(os.listdir(os.path.join(root, \"images\"))))\n",
    "        self.labels = list(sorted(os.listdir(os.path.join(root, \"labels\"))))\n",
    "\n",
    "    def __getitem__(self, idx):\n",
    "        img_path = os.path.join(self.root, \"images\", self.imgs[idx])\n",
    "        label_path = os.path.join(self.root, \"labels\", self.labels[idx])\n",
    "        \n",
    "        img = Image.open(img_path).convert(\"RGB\")\n",
    "        boxes = []\n",
    "        labels = []\n",
    "\n",
    "        with open(label_path) as f:\n",
    "            for line in f:\n",
    "                cls, x_center, y_center, width, height = map(float, line.split())\n",
    "                cls = int(cls)\n",
    "                w, h = img.size\n",
    "                x_min = (x_center - width / 2) * w\n",
    "                y_min = (y_center - height / 2) * h\n",
    "                x_max = (x_center + width / 2) * w\n",
    "                y_max = (y_center + height / 2) * h\n",
    "                boxes.append([x_min, y_min, x_max, y_max])\n",
    "                labels.append(cls + 1)  \n",
    "\n",
    "        boxes = torch.as_tensor(boxes, dtype=torch.float32)\n",
    "        labels = torch.as_tensor(labels, dtype=torch.int64)\n",
    "        image_id = torch.tensor([idx])\n",
    "        area = (boxes[:, 3] - boxes[:, 1]) * (boxes[:, 2] - boxes[:, 0])\n",
    "        iscrowd = torch.zeros((len(boxes),), dtype=torch.int64)\n",
    "\n",
    "        target = {\n",
    "            \"boxes\": boxes,\n",
    "            \"labels\": labels,\n",
    "            \"image_id\": image_id,\n",
    "            \"area\": area,\n",
    "            \"iscrowd\": iscrowd\n",
    "        }\n",
    "\n",
    "        if self.transforms:\n",
    "            img = self.transforms(img)\n",
    "\n",
    "        return img, target\n",
    "\n",
    "    def __len__(self):\n",
    "        return len(self.imgs)\n"
   ]
  },
  {
   "cell_type": "code",
   "execution_count": 20,
   "id": "bd8dd4de",
   "metadata": {},
   "outputs": [],
   "source": [
    "def get_transform():\n",
    "    return torchvision.transforms.Compose([torchvision.transforms.ToTensor()])\n",
    "\n",
    "dataset = FireDataset(\"./fire_data/train\", get_transform())\n",
    "indices = torch.randperm(len(dataset)).tolist()\n",
    "train_dataset = torch.utils.data.Subset(dataset, indices[:-10])\n",
    "val_dataset = torch.utils.data.Subset(dataset, indices[-10:])\n",
    "\n",
    "train_loader = DataLoader(train_dataset, batch_size=2, shuffle=True, collate_fn=lambda x: tuple(zip(*x)))\n",
    "val_loader = DataLoader(val_dataset, batch_size=1, shuffle=False, collate_fn=lambda x: tuple(zip(*x)))\n"
   ]
  },
  {
   "cell_type": "code",
   "execution_count": 21,
   "id": "188c79e6",
   "metadata": {},
   "outputs": [
    {
     "data": {
      "text/plain": [
       "FasterRCNN(\n",
       "  (transform): GeneralizedRCNNTransform(\n",
       "      Normalize(mean=[0.485, 0.456, 0.406], std=[0.229, 0.224, 0.225])\n",
       "      Resize(min_size=(800,), max_size=1333, mode='bilinear')\n",
       "  )\n",
       "  (backbone): BackboneWithFPN(\n",
       "    (body): IntermediateLayerGetter(\n",
       "      (conv1): Conv2d(3, 64, kernel_size=(7, 7), stride=(2, 2), padding=(3, 3), bias=False)\n",
       "      (bn1): FrozenBatchNorm2d(64, eps=0.0)\n",
       "      (relu): ReLU(inplace=True)\n",
       "      (maxpool): MaxPool2d(kernel_size=3, stride=2, padding=1, dilation=1, ceil_mode=False)\n",
       "      (layer1): Sequential(\n",
       "        (0): Bottleneck(\n",
       "          (conv1): Conv2d(64, 64, kernel_size=(1, 1), stride=(1, 1), bias=False)\n",
       "          (bn1): FrozenBatchNorm2d(64, eps=0.0)\n",
       "          (conv2): Conv2d(64, 64, kernel_size=(3, 3), stride=(1, 1), padding=(1, 1), bias=False)\n",
       "          (bn2): FrozenBatchNorm2d(64, eps=0.0)\n",
       "          (conv3): Conv2d(64, 256, kernel_size=(1, 1), stride=(1, 1), bias=False)\n",
       "          (bn3): FrozenBatchNorm2d(256, eps=0.0)\n",
       "          (relu): ReLU(inplace=True)\n",
       "          (downsample): Sequential(\n",
       "            (0): Conv2d(64, 256, kernel_size=(1, 1), stride=(1, 1), bias=False)\n",
       "            (1): FrozenBatchNorm2d(256, eps=0.0)\n",
       "          )\n",
       "        )\n",
       "        (1): Bottleneck(\n",
       "          (conv1): Conv2d(256, 64, kernel_size=(1, 1), stride=(1, 1), bias=False)\n",
       "          (bn1): FrozenBatchNorm2d(64, eps=0.0)\n",
       "          (conv2): Conv2d(64, 64, kernel_size=(3, 3), stride=(1, 1), padding=(1, 1), bias=False)\n",
       "          (bn2): FrozenBatchNorm2d(64, eps=0.0)\n",
       "          (conv3): Conv2d(64, 256, kernel_size=(1, 1), stride=(1, 1), bias=False)\n",
       "          (bn3): FrozenBatchNorm2d(256, eps=0.0)\n",
       "          (relu): ReLU(inplace=True)\n",
       "        )\n",
       "        (2): Bottleneck(\n",
       "          (conv1): Conv2d(256, 64, kernel_size=(1, 1), stride=(1, 1), bias=False)\n",
       "          (bn1): FrozenBatchNorm2d(64, eps=0.0)\n",
       "          (conv2): Conv2d(64, 64, kernel_size=(3, 3), stride=(1, 1), padding=(1, 1), bias=False)\n",
       "          (bn2): FrozenBatchNorm2d(64, eps=0.0)\n",
       "          (conv3): Conv2d(64, 256, kernel_size=(1, 1), stride=(1, 1), bias=False)\n",
       "          (bn3): FrozenBatchNorm2d(256, eps=0.0)\n",
       "          (relu): ReLU(inplace=True)\n",
       "        )\n",
       "      )\n",
       "      (layer2): Sequential(\n",
       "        (0): Bottleneck(\n",
       "          (conv1): Conv2d(256, 128, kernel_size=(1, 1), stride=(1, 1), bias=False)\n",
       "          (bn1): FrozenBatchNorm2d(128, eps=0.0)\n",
       "          (conv2): Conv2d(128, 128, kernel_size=(3, 3), stride=(2, 2), padding=(1, 1), bias=False)\n",
       "          (bn2): FrozenBatchNorm2d(128, eps=0.0)\n",
       "          (conv3): Conv2d(128, 512, kernel_size=(1, 1), stride=(1, 1), bias=False)\n",
       "          (bn3): FrozenBatchNorm2d(512, eps=0.0)\n",
       "          (relu): ReLU(inplace=True)\n",
       "          (downsample): Sequential(\n",
       "            (0): Conv2d(256, 512, kernel_size=(1, 1), stride=(2, 2), bias=False)\n",
       "            (1): FrozenBatchNorm2d(512, eps=0.0)\n",
       "          )\n",
       "        )\n",
       "        (1): Bottleneck(\n",
       "          (conv1): Conv2d(512, 128, kernel_size=(1, 1), stride=(1, 1), bias=False)\n",
       "          (bn1): FrozenBatchNorm2d(128, eps=0.0)\n",
       "          (conv2): Conv2d(128, 128, kernel_size=(3, 3), stride=(1, 1), padding=(1, 1), bias=False)\n",
       "          (bn2): FrozenBatchNorm2d(128, eps=0.0)\n",
       "          (conv3): Conv2d(128, 512, kernel_size=(1, 1), stride=(1, 1), bias=False)\n",
       "          (bn3): FrozenBatchNorm2d(512, eps=0.0)\n",
       "          (relu): ReLU(inplace=True)\n",
       "        )\n",
       "        (2): Bottleneck(\n",
       "          (conv1): Conv2d(512, 128, kernel_size=(1, 1), stride=(1, 1), bias=False)\n",
       "          (bn1): FrozenBatchNorm2d(128, eps=0.0)\n",
       "          (conv2): Conv2d(128, 128, kernel_size=(3, 3), stride=(1, 1), padding=(1, 1), bias=False)\n",
       "          (bn2): FrozenBatchNorm2d(128, eps=0.0)\n",
       "          (conv3): Conv2d(128, 512, kernel_size=(1, 1), stride=(1, 1), bias=False)\n",
       "          (bn3): FrozenBatchNorm2d(512, eps=0.0)\n",
       "          (relu): ReLU(inplace=True)\n",
       "        )\n",
       "        (3): Bottleneck(\n",
       "          (conv1): Conv2d(512, 128, kernel_size=(1, 1), stride=(1, 1), bias=False)\n",
       "          (bn1): FrozenBatchNorm2d(128, eps=0.0)\n",
       "          (conv2): Conv2d(128, 128, kernel_size=(3, 3), stride=(1, 1), padding=(1, 1), bias=False)\n",
       "          (bn2): FrozenBatchNorm2d(128, eps=0.0)\n",
       "          (conv3): Conv2d(128, 512, kernel_size=(1, 1), stride=(1, 1), bias=False)\n",
       "          (bn3): FrozenBatchNorm2d(512, eps=0.0)\n",
       "          (relu): ReLU(inplace=True)\n",
       "        )\n",
       "      )\n",
       "      (layer3): Sequential(\n",
       "        (0): Bottleneck(\n",
       "          (conv1): Conv2d(512, 256, kernel_size=(1, 1), stride=(1, 1), bias=False)\n",
       "          (bn1): FrozenBatchNorm2d(256, eps=0.0)\n",
       "          (conv2): Conv2d(256, 256, kernel_size=(3, 3), stride=(2, 2), padding=(1, 1), bias=False)\n",
       "          (bn2): FrozenBatchNorm2d(256, eps=0.0)\n",
       "          (conv3): Conv2d(256, 1024, kernel_size=(1, 1), stride=(1, 1), bias=False)\n",
       "          (bn3): FrozenBatchNorm2d(1024, eps=0.0)\n",
       "          (relu): ReLU(inplace=True)\n",
       "          (downsample): Sequential(\n",
       "            (0): Conv2d(512, 1024, kernel_size=(1, 1), stride=(2, 2), bias=False)\n",
       "            (1): FrozenBatchNorm2d(1024, eps=0.0)\n",
       "          )\n",
       "        )\n",
       "        (1): Bottleneck(\n",
       "          (conv1): Conv2d(1024, 256, kernel_size=(1, 1), stride=(1, 1), bias=False)\n",
       "          (bn1): FrozenBatchNorm2d(256, eps=0.0)\n",
       "          (conv2): Conv2d(256, 256, kernel_size=(3, 3), stride=(1, 1), padding=(1, 1), bias=False)\n",
       "          (bn2): FrozenBatchNorm2d(256, eps=0.0)\n",
       "          (conv3): Conv2d(256, 1024, kernel_size=(1, 1), stride=(1, 1), bias=False)\n",
       "          (bn3): FrozenBatchNorm2d(1024, eps=0.0)\n",
       "          (relu): ReLU(inplace=True)\n",
       "        )\n",
       "        (2): Bottleneck(\n",
       "          (conv1): Conv2d(1024, 256, kernel_size=(1, 1), stride=(1, 1), bias=False)\n",
       "          (bn1): FrozenBatchNorm2d(256, eps=0.0)\n",
       "          (conv2): Conv2d(256, 256, kernel_size=(3, 3), stride=(1, 1), padding=(1, 1), bias=False)\n",
       "          (bn2): FrozenBatchNorm2d(256, eps=0.0)\n",
       "          (conv3): Conv2d(256, 1024, kernel_size=(1, 1), stride=(1, 1), bias=False)\n",
       "          (bn3): FrozenBatchNorm2d(1024, eps=0.0)\n",
       "          (relu): ReLU(inplace=True)\n",
       "        )\n",
       "        (3): Bottleneck(\n",
       "          (conv1): Conv2d(1024, 256, kernel_size=(1, 1), stride=(1, 1), bias=False)\n",
       "          (bn1): FrozenBatchNorm2d(256, eps=0.0)\n",
       "          (conv2): Conv2d(256, 256, kernel_size=(3, 3), stride=(1, 1), padding=(1, 1), bias=False)\n",
       "          (bn2): FrozenBatchNorm2d(256, eps=0.0)\n",
       "          (conv3): Conv2d(256, 1024, kernel_size=(1, 1), stride=(1, 1), bias=False)\n",
       "          (bn3): FrozenBatchNorm2d(1024, eps=0.0)\n",
       "          (relu): ReLU(inplace=True)\n",
       "        )\n",
       "        (4): Bottleneck(\n",
       "          (conv1): Conv2d(1024, 256, kernel_size=(1, 1), stride=(1, 1), bias=False)\n",
       "          (bn1): FrozenBatchNorm2d(256, eps=0.0)\n",
       "          (conv2): Conv2d(256, 256, kernel_size=(3, 3), stride=(1, 1), padding=(1, 1), bias=False)\n",
       "          (bn2): FrozenBatchNorm2d(256, eps=0.0)\n",
       "          (conv3): Conv2d(256, 1024, kernel_size=(1, 1), stride=(1, 1), bias=False)\n",
       "          (bn3): FrozenBatchNorm2d(1024, eps=0.0)\n",
       "          (relu): ReLU(inplace=True)\n",
       "        )\n",
       "        (5): Bottleneck(\n",
       "          (conv1): Conv2d(1024, 256, kernel_size=(1, 1), stride=(1, 1), bias=False)\n",
       "          (bn1): FrozenBatchNorm2d(256, eps=0.0)\n",
       "          (conv2): Conv2d(256, 256, kernel_size=(3, 3), stride=(1, 1), padding=(1, 1), bias=False)\n",
       "          (bn2): FrozenBatchNorm2d(256, eps=0.0)\n",
       "          (conv3): Conv2d(256, 1024, kernel_size=(1, 1), stride=(1, 1), bias=False)\n",
       "          (bn3): FrozenBatchNorm2d(1024, eps=0.0)\n",
       "          (relu): ReLU(inplace=True)\n",
       "        )\n",
       "      )\n",
       "      (layer4): Sequential(\n",
       "        (0): Bottleneck(\n",
       "          (conv1): Conv2d(1024, 512, kernel_size=(1, 1), stride=(1, 1), bias=False)\n",
       "          (bn1): FrozenBatchNorm2d(512, eps=0.0)\n",
       "          (conv2): Conv2d(512, 512, kernel_size=(3, 3), stride=(2, 2), padding=(1, 1), bias=False)\n",
       "          (bn2): FrozenBatchNorm2d(512, eps=0.0)\n",
       "          (conv3): Conv2d(512, 2048, kernel_size=(1, 1), stride=(1, 1), bias=False)\n",
       "          (bn3): FrozenBatchNorm2d(2048, eps=0.0)\n",
       "          (relu): ReLU(inplace=True)\n",
       "          (downsample): Sequential(\n",
       "            (0): Conv2d(1024, 2048, kernel_size=(1, 1), stride=(2, 2), bias=False)\n",
       "            (1): FrozenBatchNorm2d(2048, eps=0.0)\n",
       "          )\n",
       "        )\n",
       "        (1): Bottleneck(\n",
       "          (conv1): Conv2d(2048, 512, kernel_size=(1, 1), stride=(1, 1), bias=False)\n",
       "          (bn1): FrozenBatchNorm2d(512, eps=0.0)\n",
       "          (conv2): Conv2d(512, 512, kernel_size=(3, 3), stride=(1, 1), padding=(1, 1), bias=False)\n",
       "          (bn2): FrozenBatchNorm2d(512, eps=0.0)\n",
       "          (conv3): Conv2d(512, 2048, kernel_size=(1, 1), stride=(1, 1), bias=False)\n",
       "          (bn3): FrozenBatchNorm2d(2048, eps=0.0)\n",
       "          (relu): ReLU(inplace=True)\n",
       "        )\n",
       "        (2): Bottleneck(\n",
       "          (conv1): Conv2d(2048, 512, kernel_size=(1, 1), stride=(1, 1), bias=False)\n",
       "          (bn1): FrozenBatchNorm2d(512, eps=0.0)\n",
       "          (conv2): Conv2d(512, 512, kernel_size=(3, 3), stride=(1, 1), padding=(1, 1), bias=False)\n",
       "          (bn2): FrozenBatchNorm2d(512, eps=0.0)\n",
       "          (conv3): Conv2d(512, 2048, kernel_size=(1, 1), stride=(1, 1), bias=False)\n",
       "          (bn3): FrozenBatchNorm2d(2048, eps=0.0)\n",
       "          (relu): ReLU(inplace=True)\n",
       "        )\n",
       "      )\n",
       "    )\n",
       "    (fpn): FeaturePyramidNetwork(\n",
       "      (inner_blocks): ModuleList(\n",
       "        (0): Conv2dNormActivation(\n",
       "          (0): Conv2d(256, 256, kernel_size=(1, 1), stride=(1, 1))\n",
       "        )\n",
       "        (1): Conv2dNormActivation(\n",
       "          (0): Conv2d(512, 256, kernel_size=(1, 1), stride=(1, 1))\n",
       "        )\n",
       "        (2): Conv2dNormActivation(\n",
       "          (0): Conv2d(1024, 256, kernel_size=(1, 1), stride=(1, 1))\n",
       "        )\n",
       "        (3): Conv2dNormActivation(\n",
       "          (0): Conv2d(2048, 256, kernel_size=(1, 1), stride=(1, 1))\n",
       "        )\n",
       "      )\n",
       "      (layer_blocks): ModuleList(\n",
       "        (0-3): 4 x Conv2dNormActivation(\n",
       "          (0): Conv2d(256, 256, kernel_size=(3, 3), stride=(1, 1), padding=(1, 1))\n",
       "        )\n",
       "      )\n",
       "      (extra_blocks): LastLevelMaxPool()\n",
       "    )\n",
       "  )\n",
       "  (rpn): RegionProposalNetwork(\n",
       "    (anchor_generator): AnchorGenerator()\n",
       "    (head): RPNHead(\n",
       "      (conv): Sequential(\n",
       "        (0): Conv2dNormActivation(\n",
       "          (0): Conv2d(256, 256, kernel_size=(3, 3), stride=(1, 1), padding=(1, 1))\n",
       "          (1): ReLU(inplace=True)\n",
       "        )\n",
       "      )\n",
       "      (cls_logits): Conv2d(256, 3, kernel_size=(1, 1), stride=(1, 1))\n",
       "      (bbox_pred): Conv2d(256, 12, kernel_size=(1, 1), stride=(1, 1))\n",
       "    )\n",
       "  )\n",
       "  (roi_heads): RoIHeads(\n",
       "    (box_roi_pool): MultiScaleRoIAlign(featmap_names=['0', '1', '2', '3'], output_size=(7, 7), sampling_ratio=2)\n",
       "    (box_head): TwoMLPHead(\n",
       "      (fc6): Linear(in_features=12544, out_features=1024, bias=True)\n",
       "      (fc7): Linear(in_features=1024, out_features=1024, bias=True)\n",
       "    )\n",
       "    (box_predictor): FastRCNNPredictor(\n",
       "      (cls_score): Linear(in_features=1024, out_features=2, bias=True)\n",
       "      (bbox_pred): Linear(in_features=1024, out_features=8, bias=True)\n",
       "    )\n",
       "  )\n",
       ")"
      ]
     },
     "execution_count": 21,
     "metadata": {},
     "output_type": "execute_result"
    }
   ],
   "source": [
    "device = torch.device(\"cuda\" if torch.cuda.is_available() else \"cpu\")\n",
    "\n",
    "model = torchvision.models.detection.fasterrcnn_resnet50_fpn(pretrained=True)\n",
    "num_classes = 2  \n",
    "in_features = model.roi_heads.box_predictor.cls_score.in_features\n",
    "model.roi_heads.box_predictor = FastRCNNPredictor(in_features, num_classes)\n",
    "model.to(device)"
   ]
  },
  {
   "cell_type": "code",
   "execution_count": null,
   "id": "b9cf9a9b",
   "metadata": {},
   "outputs": [],
   "source": [
    "# Step 5: Train the model\n",
    "import torchvision\n",
    "import time\n",
    "\n",
    "params = [p for p in model.parameters() if p.requires_grad]\n",
    "optimizer = torch.optim.SGD(params, lr=0.005, momentum=0.9, weight_decay=0.0005)\n",
    "num_epochs = 10\n",
    "\n",
    "for epoch in range(num_epochs):\n",
    "    model.train()\n",
    "    epoch_loss = 0\n",
    "    for images, targets in train_loader:\n",
    "        images = list(image.to(device) for image in images)\n",
    "        targets = [{k: v.to(device) for k, v in t.items()} for t in targets]\n",
    "        loss_dict = model(images, targets)\n",
    "        losses = sum(loss for loss in loss_dict.values())\n",
    "\n",
    "        optimizer.zero_grad()\n",
    "        losses.backward()\n",
    "        optimizer.step()\n",
    "        epoch_loss += losses.item()\n",
    "\n",
    "    print(f\"Epoch {epoch+1}/{num_epochs}, Loss: {epoch_loss:.4f}\")\n"
   ]
  },
  {
   "cell_type": "code",
   "execution_count": null,
   "id": "d4fbba90",
   "metadata": {},
   "outputs": [
    {
     "data": {
      "text/plain": [
       "<Figure size 800x800 with 1 Axes>"
      ]
     },
     "metadata": {},
     "output_type": "display_data"
    },
    {
     "data": {
      "text/plain": [
       "<Figure size 800x800 with 1 Axes>"
      ]
     },
     "metadata": {},
     "output_type": "display_data"
    },
    {
     "data": {
      "text/plain": [
       "<Figure size 800x800 with 1 Axes>"
      ]
     },
     "metadata": {},
     "output_type": "display_data"
    },
    {
     "data": {
      "text/plain": [
       "<Figure size 800x800 with 1 Axes>"
      ]
     },
     "metadata": {},
     "output_type": "display_data"
    },
    {
     "data": {
      "text/plain": [
       "<Figure size 800x800 with 1 Axes>"
      ]
     },
     "metadata": {},
     "output_type": "display_data"
    },
    {
     "data": {
      "text/plain": [
       "<Figure size 800x800 with 1 Axes>"
      ]
     },
     "metadata": {},
     "output_type": "display_data"
    },
    {
     "data": {
      "text/plain": [
       "<Figure size 800x800 with 1 Axes>"
      ]
     },
     "metadata": {},
     "output_type": "display_data"
    },
    {
     "data": {
      "text/plain": [
       "<Figure size 800x800 with 1 Axes>"
      ]
     },
     "metadata": {},
     "output_type": "display_data"
    },
    {
     "data": {
      "text/plain": [
       "<Figure size 800x800 with 1 Axes>"
      ]
     },
     "metadata": {},
     "output_type": "display_data"
    }
   ],
   "source": [
    "model.eval()\n",
    "for idx in range(5):\n",
    "    img, _ = dataset[idx]\n",
    "    \n",
    "    with torch.no_grad():\n",
    "        prediction = model([img.to(device)])\n",
    "\n",
    "    img_np = img.mul(255).permute(1, 2, 0).byte().numpy()\n",
    "\n",
    "    plt.figure(figsize=(8, 8))\n",
    "    plt.imshow(img_np)\n",
    "    for box in prediction[0]['boxes'].cpu():\n",
    "        x1, y1, x2, y2 = box\n",
    "        plt.plot([x1, x2, x2, x1, x1], [y1, y1, y2, y2, y1], 'r')\n",
    "    plt.title(f\"Result - Image {idx+1}\")\n",
    "    plt.show()"
   ]
  }
 ],
 "metadata": {
  "kernelspec": {
   "display_name": "Python 3",
   "language": "python",
   "name": "python3"
  },
  "language_info": {
   "codemirror_mode": {
    "name": "ipython",
    "version": 3
   },
   "file_extension": ".py",
   "mimetype": "text/x-python",
   "name": "python",
   "nbconvert_exporter": "python",
   "pygments_lexer": "ipython3",
   "version": "3.11.8"
  }
 },
 "nbformat": 4,
 "nbformat_minor": 5
}
